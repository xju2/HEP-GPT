{
 "cells": [
  {
   "cell_type": "code",
   "execution_count": 1,
   "id": "8f6cab4d-174b-474c-87a2-83756ee70d7e",
   "metadata": {
    "tags": []
   },
   "outputs": [],
   "source": [
    "%load_ext autoreload\n",
    "%autoreload 2"
   ]
  },
  {
   "cell_type": "code",
   "execution_count": 2,
   "id": "b49517ea-50db-4c93-a106-0e06cf8c822a",
   "metadata": {
    "tags": []
   },
   "outputs": [
    {
     "name": "stdout",
     "output_type": "stream",
     "text": [
      "/pscratch/sd/x/xju/venv/llm/bin/python\n"
     ]
    }
   ],
   "source": [
    "!which python"
   ]
  },
  {
   "cell_type": "code",
   "execution_count": 3,
   "id": "7a87d999-2117-46d9-88d0-cba6a2376c00",
   "metadata": {
    "tags": []
   },
   "outputs": [
    {
     "name": "stdout",
     "output_type": "stream",
     "text": [
      "Python 3.9.7\n"
     ]
    }
   ],
   "source": [
    "!python --version "
   ]
  },
  {
   "cell_type": "code",
   "execution_count": 4,
   "id": "6aa72bb2-5214-4262-913d-b076d2c30ffc",
   "metadata": {
    "tags": []
   },
   "outputs": [
    {
     "name": "stdout",
     "output_type": "stream",
     "text": [
      "2.1.0+cu118\n",
      "True\n"
     ]
    }
   ],
   "source": [
    "import torch\n",
    "print(torch.__version__)\n",
    "print(torch.cuda.is_available())"
   ]
  },
  {
   "cell_type": "code",
   "execution_count": 5,
   "id": "57da10f1-1196-441f-abd8-95e634374836",
   "metadata": {},
   "outputs": [],
   "source": [
    "import sys\n",
    "sys.path.append(\"..\")\n",
    "\n",
    "from lightning.fabric import Fabric\n",
    "from model import GPTConfig, GPT\n",
    "from omegaconf import DictConfig\n",
    "from omegaconf import OmegaConf\n",
    "\n",
    "import numpy as np\n",
    "import pandas as pd\n",
    "import pickle\n",
    "import matplotlib.pyplot as plt\n",
    "\n",
    "from more_itertools import pairwise"
   ]
  },
  {
   "cell_type": "code",
   "execution_count": 5,
   "id": "2cb06478-1b43-4834-810e-83cbacd157a1",
   "metadata": {
    "tags": []
   },
   "outputs": [],
   "source": [
    "# a model with a wrong vacob size.\n",
    "ckpt_path = \"/pscratch/sd/x/xju/LLMTracking/HEP-GPT/outputs/2023-11-02/11-38-10/best.ckpt\"\n",
    "model_config_str = \"\"\"\n",
    "block_size: 1024\n",
    "vocab_size: 50304\n",
    "n_layer: 12\n",
    "n_head: 16\n",
    "n_embd: 256\n",
    "dropout: 0\n",
    "bias: False\n",
    "\"\"\"\n",
    "model_config = OmegaConf.create(model_config_str)"
   ]
  },
  {
   "cell_type": "code",
   "execution_count": 48,
   "id": "bf11b01c-6e3a-4a66-b675-e4e4ff2ee72a",
   "metadata": {
    "tags": []
   },
   "outputs": [],
   "source": [
    "# a model trained with fixed-length sequences\n",
    "# ckpt_path = \"/pscratch/sd/x/xju/LLMTracking/HEP-GPT/outputs/2023-11-09/18-31-38/best.ckpt\"\n",
    "\n",
    "ckpt_path = \"/pscratch/sd/x/xju/LLMTracking/HEP-GPT/outputs/2023-11-10/14-33-53/checkpoints/ckpt-8000.ckpt\"\n",
    "is_compiled = True\n",
    "model_config_str = \"\"\"\n",
    "block_size: 22\n",
    "vocab_size: 18737\n",
    "n_layer: 12\n",
    "n_head: 16\n",
    "n_embd: 1024\n",
    "dropout: 0\n",
    "bias: False\n",
    "\"\"\"\n",
    "model_config = OmegaConf.create(model_config_str)"
   ]
  },
  {
   "cell_type": "code",
   "execution_count": 8,
   "id": "8c6780be-23e6-481f-b10c-8b4f0fd12614",
   "metadata": {
    "tags": []
   },
   "outputs": [],
   "source": [
    "gpt_config = GPTConfig(**model_config)\n",
    "model = GPT(gpt_config)\n",
    "\n",
    "if is_compiled:\n",
    "    model = torch.compile(model)"
   ]
  },
  {
   "cell_type": "code",
   "execution_count": 9,
   "id": "747780f9-13e6-4281-b750-44eef3b0f347",
   "metadata": {
    "tags": []
   },
   "outputs": [],
   "source": [
    "optim_yaml = \"\"\"\n",
    "learning_rate: 1e-3 # max learning rate\n",
    "max_iters: 600_000 # total number of training iterations\n",
    "weight_decay: 1e-1   # [TODO]\n",
    "beta1: 0.9\n",
    "beta2: 0.95\n",
    "grad_clip_val: 1.0 # clip gradients at this value, or disable if == 0.0\n",
    "\n",
    "# learning rate decay settings\n",
    "decay_lr: True  # whether to decay the learning rate\n",
    "warmup_iters: 2000  # how many steps to warm up for\n",
    "lr_decay_iters: 600000  # should be ~= max_iters per Chinchilla\n",
    "min_lr: 6e-5  # minimum learning rate, should be ~= learning_rate/10 per Chinchilla\n",
    "\"\"\"\n",
    "optim_config = OmegaConf.create(optim_yaml)\n",
    "optimizer = model.configure_optimizers(optim_config, \"cpu\")"
   ]
  },
  {
   "cell_type": "code",
   "execution_count": 10,
   "id": "d15e62f8-8517-4e3d-aedd-434de0667c3d",
   "metadata": {
    "tags": []
   },
   "outputs": [
    {
     "name": "stderr",
     "output_type": "stream",
     "text": [
      "/pscratch/sd/x/xju/venv/llm/lib/python3.9/site-packages/lightning/fabric/plugins/environments/slurm.py:191: The `srun` command is available on your system but is not used. HINT: If your intention is to run Lightning on SLURM, prepend your python command with `srun` like so: srun python /pscratch/sd/x/xju/venv/llm/lib/python3.9/site-packa ...\n",
      "Using bfloat16 Automatic Mixed Precision (AMP)\n",
      "You are using a CUDA device ('NVIDIA A100-PCIE-40GB') that has Tensor Cores. To properly utilize them, you should set `torch.set_float32_matmul_precision('medium' | 'high')` which will trade-off precision for performance. For more details, read https://pytorch.org/docs/stable/generated/torch.set_float32_matmul_precision.html#torch.set_float32_matmul_precision\n"
     ]
    }
   ],
   "source": [
    "fabric = Fabric(precision=\"bf16-mixed\")\n",
    "fabric.launch()"
   ]
  },
  {
   "cell_type": "code",
   "execution_count": 11,
   "id": "5083e34a-5d9a-4014-8a2f-b9e1fda0b88a",
   "metadata": {
    "tags": []
   },
   "outputs": [],
   "source": [
    "model, optimizer = fabric.setup(model, optimizer)"
   ]
  },
  {
   "cell_type": "code",
   "execution_count": 12,
   "id": "c20543e6-b730-4e19-b1bd-be34cf498557",
   "metadata": {
    "tags": []
   },
   "outputs": [
    {
     "data": {
      "text/plain": [
       "{}"
      ]
     },
     "execution_count": 12,
     "metadata": {},
     "output_type": "execute_result"
    }
   ],
   "source": [
    "state = {\n",
    "    \"model\": model,\n",
    "    \"optimizer\": optimizer,\n",
    "}\n",
    "fabric.load(ckpt_path, state)"
   ]
  },
  {
   "cell_type": "code",
   "execution_count": 100,
   "id": "75f000c8-2853-4a5b-92e3-c3258d2cc2f0",
   "metadata": {
    "jupyter": {
     "source_hidden": true
    },
    "tags": []
   },
   "outputs": [],
   "source": [
    "val_data_filename = \"/pscratch/sd/x/xju/LLMTracking/HEP-GPT/data/trackml/v7_evt100_val.bin\"\n",
    "val_data = np.memmap(val_data_filename, dtype=np.uint16, mode='r')"
   ]
  },
  {
   "cell_type": "code",
   "execution_count": 13,
   "id": "fd455fd9-d603-4c4f-8a00-5bfcdc177d5e",
   "metadata": {
    "tags": []
   },
   "outputs": [],
   "source": [
    "val_data_filename = \"/pscratch/sd/x/xju/LLMTracking/HEP-GPT/data/trackml_fixed_length/v1_evt10_val.bin\"\n",
    "val_data = np.memmap(val_data_filename, dtype=np.uint16, mode='r')"
   ]
  },
  {
   "cell_type": "code",
   "execution_count": 14,
   "id": "2b932f2e-eaeb-46dd-b573-c17efca19539",
   "metadata": {
    "tags": []
   },
   "outputs": [
    {
     "data": {
      "text/plain": [
       "81093.0"
      ]
     },
     "execution_count": 14,
     "metadata": {},
     "output_type": "execute_result"
    }
   ],
   "source": [
    "val_data.shape[0] / 22"
   ]
  },
  {
   "cell_type": "code",
   "execution_count": 15,
   "id": "7a1fbd5e-5453-4bce-970a-216ffe4150df",
   "metadata": {
    "tags": []
   },
   "outputs": [],
   "source": [
    "track_start_indices = np.argwhere(val_data==3).squeeze()\n",
    "track_end_indices = np.argwhere(val_data==4).squeeze()"
   ]
  },
  {
   "cell_type": "code",
   "execution_count": 16,
   "id": "1f7c23de-0c05-470f-a33a-463d0d0ded7a",
   "metadata": {
    "tags": []
   },
   "outputs": [
    {
     "data": {
      "text/plain": [
       "array([], shape=(0, 1), dtype=int64)"
      ]
     },
     "execution_count": 16,
     "metadata": {},
     "output_type": "execute_result"
    }
   ],
   "source": [
    "track_length = np.array([y-x for x,y in pairwise(track_start_indices)])\n",
    "np.argwhere(track_length != 22)"
   ]
  },
  {
   "cell_type": "code",
   "execution_count": 17,
   "id": "068bfbbb-0620-49d7-b1b9-7a01ed1fc76b",
   "metadata": {
    "tags": []
   },
   "outputs": [],
   "source": [
    "num_of_hits = track_end_indices - track_start_indices"
   ]
  },
  {
   "cell_type": "code",
   "execution_count": 18,
   "id": "7ce81f4f-7e5a-478e-92a2-11039f613852",
   "metadata": {
    "tags": []
   },
   "outputs": [
    {
     "data": {
      "text/plain": [
       "(69894,)"
      ]
     },
     "execution_count": 18,
     "metadata": {},
     "output_type": "execute_result"
    }
   ],
   "source": [
    "num_of_hits[num_of_hits > 8].shape"
   ]
  },
  {
   "cell_type": "code",
   "execution_count": 19,
   "id": "28e5c926-8e22-4340-8a97-3f72b4b6dfe7",
   "metadata": {
    "tags": []
   },
   "outputs": [
    {
     "data": {
      "text/plain": [
       "Text(0, 0.5, 'Tracks')"
      ]
     },
     "execution_count": 19,
     "metadata": {},
     "output_type": "execute_result"
    },
    {
     "data": {
      "image/png": "[encoded data removed]",
      "text/plain": [
       "<Figure size 640x480 with 1 Axes>"
      ]
     },
     "metadata": {},
     "output_type": "display_data"
    }
   ],
   "source": [
    "plt.hist(num_of_hits, bins=20, range=(0.5, 20.5), histtype=\"step\", lw=2)\n",
    "plt.xlabel(\"Number of hits\")\n",
    "plt.ylabel(\"Tracks\")"
   ]
  },
  {
   "cell_type": "code",
   "execution_count": 37,
   "id": "df684e95-6211-45b3-9165-7d31f9c84d02",
   "metadata": {
    "tags": []
   },
   "outputs": [],
   "source": [
    "num_of_seed_hits = 4\n",
    "block_size = 22\n",
    "UNKNOWN_TOKEN = 8"
   ]
  },
  {
   "cell_type": "code",
   "execution_count": 38,
   "id": "74c43502-31ec-49b8-87ef-b1c90746e82e",
   "metadata": {
    "tags": []
   },
   "outputs": [],
   "source": [
    "all_tracks = [val_data[x:y+1] for x,y in zip(track_start_indices, track_end_indices)]\n",
    "seeds = np.array([track[:num_of_seed_hits+1] for track in all_tracks]).astype(\"int\")"
   ]
  },
  {
   "cell_type": "code",
   "execution_count": null,
   "id": "19a50010-4184-4460-b37e-2cf5d7fcd6d2",
   "metadata": {
    "tags": []
   },
   "outputs": [],
   "source": [
    "seeds.shape"
   ]
  },
  {
   "cell_type": "code",
   "execution_count": 22,
   "id": "95a3fcef-8386-450a-96e7-67c139b04afb",
   "metadata": {
    "tags": []
   },
   "outputs": [],
   "source": [
    "detector_path = \"/global/cfs/cdirs/m3443/data/trackml-codalab/detector.csv\"\n",
    "detector = pd.read_csv(detector_path)"
   ]
  },
  {
   "cell_type": "code",
   "execution_count": 23,
   "id": "d4e91660-010f-4895-a1a4-629017f389b8",
   "metadata": {
    "tags": []
   },
   "outputs": [],
   "source": [
    "def plot(ax1, ax2, track: np.ndarray, *args, **kwargs) -> None:\n",
    "    \"\"\"Plot a track from different views\"\"\"\n",
    "    minorsize = 14\n",
    "    fontsize = 16\n",
    "\n",
    "    if track.shape[0] != 3:\n",
    "        raise ValueError(\"Track must have 3 columns for x, y, and z.\")\n",
    "\n",
    "    if 'lw' not in kwargs:\n",
    "        kwargs['lw'] = 2\n",
    "\n",
    "    x = track[0]\n",
    "    y = track[1]\n",
    "    z = track[2]\n",
    "    r = np.sqrt(x**2 + y**2)\n",
    "\n",
    "    # plot r vs z\n",
    "    ax1.plot(z, r, *args, **kwargs)\n",
    "    ax1.set_xlabel(\"z [m]\", fontsize=fontsize)\n",
    "    ax1.set_ylabel(\"r [m]\", fontsize=fontsize)\n",
    "    ax1.tick_params(axis='both', which='major', labelsize=minorsize)\n",
    "    ax1.set_xlim(-3200, 3200)\n",
    "    ax1.set_ylim(0, 1100)\n",
    "    \n",
    "    # plot x vs y\n",
    "    ax2.plot(x, y, *args, **kwargs)\n",
    "    ax2.set_xlabel(\"x [m]\", fontsize=fontsize)\n",
    "    ax2.set_ylabel(\"y [m]\", fontsize=fontsize)\n",
    "    ax2.tick_params(axis='both', which='major', labelsize=minorsize)\n",
    "    ax2.set_xlim(-1000, 1000)\n",
    "    ax2.set_ylim(-1000, 1000)"
   ]
  },
  {
   "cell_type": "code",
   "execution_count": 40,
   "id": "49599075-672b-4a5c-b6b6-64abdb8b7b06",
   "metadata": {
    "tags": []
   },
   "outputs": [
    {
     "data": {
      "text/plain": [
       "(memmap([    3,   862,  1215,  1216,  1805,  2795,  2796,  5476,  6549,\n",
       "          8069, 10020, 10122, 14125, 17247, 17399,     4,     7,     7,\n",
       "             7,     7,     7,     7], dtype=uint16),\n",
       " array([   3,  862, 1215, 1216, 1805]))"
      ]
     },
     "execution_count": 40,
     "metadata": {},
     "output_type": "execute_result"
    }
   ],
   "source": [
    "true_track, seed_track"
   ]
  },
  {
   "cell_type": "code",
   "execution_count": 43,
   "id": "a8e4ffa0-e57a-4463-966c-e120061d2a00",
   "metadata": {
    "tags": []
   },
   "outputs": [],
   "source": [
    "trk_idx = 27\n",
    "\n",
    "num_of_seed_hits = 7\n",
    "\n",
    "true_track = val_data[trk_idx * block_size: (trk_idx + 1) * block_size]\n",
    "seed_track = true_track[:num_of_seed_hits + 1].astype(\"int32\")\n",
    "seed_tokens = torch.from_numpy(seed_track.reshape([1, -1])).to(\"cuda\")\n",
    "\n",
    "\n",
    "\n",
    "def get_position(module_ids):\n",
    "    array = np.array([detector.iloc[idx - UNKNOWN_TOKEN - 1][[\"cx\", \"cy\", \"cz\"]].values.tolist() for idx in module_ids if idx > UNKNOWN_TOKEN])\n",
    "    return array.T\n",
    "\n",
    "seed_positions = get_position(seed_track)\n",
    "true_track_positions = get_position(true_track)"
   ]
  },
  {
   "cell_type": "code",
   "execution_count": 34,
   "id": "e1d70e90-b50a-46a3-94c6-c9d2f614dce4",
   "metadata": {
    "tags": []
   },
   "outputs": [
    {
     "data": {
      "text/plain": [
       "(array([   3,  862, 1215, 1216, 1805]),\n",
       " array([[-26.8149, -63.2779, -55.4635, -99.0567],\n",
       "        [-17.9171, -33.8227, -45.5177, -59.8819],\n",
       "        [-35.    ,  35.    ,  35.    ,  35.    ]]),\n",
       " 14)"
      ]
     },
     "execution_count": 34,
     "metadata": {},
     "output_type": "execute_result"
    }
   ],
   "source": [
    "seed_track, seed_positions, len([x for x in true_track if x > UNKNOWN_TOKEN])"
   ]
  },
  {
   "cell_type": "code",
   "execution_count": 47,
   "id": "f282bd24-b61a-4085-982d-de282f3c70a3",
   "metadata": {
    "tags": []
   },
   "outputs": [
    {
     "data": {
      "image/png": "[encoded data removed]",
      "text/plain": [
       "<Figure size 1400x500 with 2 Axes>"
      ]
     },
     "metadata": {},
     "output_type": "display_data"
    }
   ],
   "source": [
    "fig = plt.figure(figsize=(14, 5))\n",
    "ax1 = fig.add_subplot(121)\n",
    "ax2 = fig.add_subplot(122)\n",
    "plot(ax1, ax2, seed_positions, '-^', ms=10, label=\"seed\")\n",
    "plot(ax1, ax2, true_track_positions[:, num_of_seed_hits + 1:], 'g-.1', ms=10, label=\"truth\")\n",
    "\n",
    "\n",
    "sim_track = model.generate(seed_tokens, block_size - num_of_seed_hits - 1).cpu().numpy()[0]\n",
    "sim_track_positions = get_position(sim_track)\n",
    "\n",
    "plot(ax1, ax2, sim_track_positions[:, num_of_seed_hits + 1:], 'r-s', ms=10, label=\"prediction\")"
   ]
  },
  {
   "cell_type": "code",
   "execution_count": 46,
   "id": "6e01148b-bd72-47f2-9725-5fb88700b40a",
   "metadata": {
    "tags": []
   },
   "outputs": [
    {
     "data": {
      "image/png": "[encoded data removed]",
      "text/plain": [
       "<Figure size 1400x500 with 2 Axes>"
      ]
     },
     "metadata": {},
     "output_type": "display_data"
    }
   ],
   "source": [
    "fig = plt.figure(figsize=(14, 5))\n",
    "ax1 = fig.add_subplot(121)\n",
    "ax2 = fig.add_subplot(122)\n",
    "plot(ax1, ax2, seed_positions, '-^', ms=10, label=\"seed\")\n",
    "plot(ax1, ax2, true_track_positions[:, num_of_seed_hits + 1:], 'g-.1', ms=10, label=\"truth\")\n",
    "\n",
    "\n",
    "sim_track = model.generate(seed_tokens, block_size - num_of_seed_hits - 1).cpu().numpy()[0]\n",
    "sim_track_positions = get_position(sim_track)\n",
    "\n",
    "plot(ax1, ax2, sim_track_positions[:, num_of_seed_hits + 1:], 'r-s', ms=10, label=\"prediction\")"
   ]
  },
  {
   "cell_type": "code",
   "execution_count": 59,
   "id": "fb4b2a23-57bb-4882-acc7-f172e058ec6e",
   "metadata": {
    "tags": []
   },
   "outputs": [],
   "source": [
    "def evaluate(trial_idx):\n",
    "    sim_track = model.generate(seed_tokens, block_size - num_of_seed_hits - 1).cpu().numpy()[0]\n",
    "    sim_track_positions = get_position(sim_track)\n",
    "\n",
    "    fig = plt.figure(figsize=(14, 5))\n",
    "    ax1 = fig.add_subplot(121)\n",
    "    ax2 = fig.add_subplot(122)\n",
    "\n",
    "    plot(ax1, ax2, seed_positions, '-^', ms=10, label=\"seed\")\n",
    "    plot(ax1, ax2, true_track_positions[:, num_of_seed_hits + 1:], 'g-.1', ms=10, label=\"truth\")\n",
    "    plot(ax1, ax2, sim_track_positions[:, num_of_seed_hits + 1:], 'r-s', ms=10, label=\"prediction\")\n",
    "    \n",
    "    ax1.legend()\n",
    "    plt.savefig(f\"eval_{trial_idx:03d}.png\")\n",
    "    plt.close()"
   ]
  },
  {
   "cell_type": "code",
   "execution_count": 60,
   "id": "a7fd0aca-f0a4-4a6d-a1a5-9cb258e0c4b5",
   "metadata": {
    "tags": []
   },
   "outputs": [],
   "source": [
    "evaluate(0)"
   ]
  },
  {
   "cell_type": "code",
   "execution_count": 138,
   "id": "9fc8da74-a7b3-4949-af26-8872da84f8f7",
   "metadata": {
    "tags": []
   },
   "outputs": [
    {
     "data": {
      "text/plain": [
       "((3, 4), (3, 22))"
      ]
     },
     "execution_count": 138,
     "metadata": {},
     "output_type": "execute_result"
    }
   ],
   "source": [
    "seed_positions.shape, true_track_positions.shape"
   ]
  },
  {
   "cell_type": "code",
   "execution_count": 64,
   "id": "1c14e311-3ca6-46ca-9faf-708848148a38",
   "metadata": {
    "tags": []
   },
   "outputs": [
    {
     "name": "stdout",
     "output_type": "stream",
     "text": [
      "CPU times: user 5.92 s, sys: 2.72 s, total: 8.64 s\n",
      "Wall time: 5.99 s\n"
     ]
    }
   ],
   "source": [
    "%%time\n",
    "for idx in range(20):\n",
    "    evaluate(idx)"
   ]
  },
  {
   "cell_type": "code",
   "execution_count": 147,
   "id": "21191b1e-d586-4ad5-a85e-95997852174e",
   "metadata": {},
   "outputs": [
    {
     "data": {
      "text/plain": [
       "array([    3,   880,  1251,  1863,  1914,  1915,  2881,  5559,  6664,\n",
       "        8307, 10532, 18152, 18341, 18437,     4,     7,     7,     7,\n",
       "           7,     7,     7,     7])"
      ]
     },
     "execution_count": 147,
     "metadata": {},
     "output_type": "execute_result"
    }
   ],
   "source": [
    "sim_track = model.generate(seed_tokens, 18).cpu().numpy()[0]\n",
    "sim_track"
   ]
  },
  {
   "cell_type": "code",
   "execution_count": null,
   "id": "be73664d-7ace-43f6-80a7-7895a8aeae35",
   "metadata": {},
   "outputs": [],
   "source": []
  }
 ],
 "metadata": {
  "kernelspec": {
   "display_name": "a-transformer",
   "language": "python",
   "name": "transformer"
  },
  "language_info": {
   "codemirror_mode": {
    "name": "ipython",
    "version": 3
   },
   "file_extension": ".py",
   "mimetype": "text/x-python",
   "name": "python",
   "nbconvert_exporter": "python",
   "pygments_lexer": "ipython3",
   "version": "3.9.7"
  }
 },
 "nbformat": 4,
 "nbformat_minor": 5
}
