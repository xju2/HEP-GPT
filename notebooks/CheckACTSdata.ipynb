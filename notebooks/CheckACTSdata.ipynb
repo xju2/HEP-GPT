{
 "cells": [
  {
   "cell_type": "code",
   "execution_count": 1,
   "id": "87bf78c5-6363-4730-a9dd-542e2152e5b9",
   "metadata": {
    "tags": []
   },
   "outputs": [],
   "source": [
    "%load_ext autoreload\n",
    "%autoreload 2"
   ]
  },
  {
   "cell_type": "code",
   "execution_count": 2,
   "id": "a7fcbc17-ab7f-46a4-ae40-362719c7a23b",
   "metadata": {
    "tags": []
   },
   "outputs": [],
   "source": [
    "import sys\n",
    "\n",
    "sys.path.append(\"..\")"
   ]
  },
  {
   "cell_type": "code",
   "execution_count": 23,
   "id": "82f1c84d-1bc2-413e-947b-2c1ac67723ee",
   "metadata": {
    "tags": []
   },
   "outputs": [],
   "source": [
    "from src.datamodules.components.odd_reader import ActsReader\n",
    "import numpy as np\n",
    "import pandas as pd"
   ]
  },
  {
   "cell_type": "code",
   "execution_count": 4,
   "id": "fc881b21-302d-4600-985d-d81dbde9cc57",
   "metadata": {
    "tags": []
   },
   "outputs": [],
   "source": [
    "inputdir = '/pscratch/sd/x/xju/LLMTracking/acts/run/v2'\n",
    "outputdir = '../data/odd_raw_data/v2'"
   ]
  },
  {
   "cell_type": "code",
   "execution_count": 5,
   "id": "56f1d9d1-523c-4bc7-ba9d-0e3545ba0733",
   "metadata": {
    "tags": []
   },
   "outputs": [
    {
     "name": "stdout",
     "output_type": "stream",
     "text": [
      "total 1000 events in directory: /pscratch/sd/x/xju/LLMTracking/acts/run/v2\n"
     ]
    }
   ],
   "source": [
    "reader = ActsReader(inputdir=inputdir,\n",
    "                    outputdir=outputdir)"
   ]
  },
  {
   "cell_type": "code",
   "execution_count": 6,
   "id": "06ebb3c0-6d13-45d0-bcb0-bb70e4966603",
   "metadata": {
    "tags": []
   },
   "outputs": [
    {
     "data": {
      "text/html": [
       "<div>\n",
       "<style scoped>\n",
       "    .dataframe tbody tr th:only-of-type {\n",
       "        vertical-align: middle;\n",
       "    }\n",
       "\n",
       "    .dataframe tbody tr th {\n",
       "        vertical-align: top;\n",
       "    }\n",
       "\n",
       "    .dataframe thead th {\n",
       "        text-align: right;\n",
       "    }\n",
       "</style>\n",
       "<table border=\"1\" class=\"dataframe\">\n",
       "  <thead>\n",
       "    <tr style=\"text-align: right;\">\n",
       "      <th></th>\n",
       "      <th>index</th>\n",
       "      <th>measurement_id</th>\n",
       "      <th>geometry_id</th>\n",
       "      <th>x</th>\n",
       "      <th>y</th>\n",
       "      <th>z</th>\n",
       "      <th>var_r</th>\n",
       "      <th>var_z</th>\n",
       "      <th>umid</th>\n",
       "      <th>hit_id</th>\n",
       "      <th>particle_id</th>\n",
       "      <th>vx</th>\n",
       "      <th>vy</th>\n",
       "      <th>vz</th>\n",
       "      <th>p_pt</th>\n",
       "      <th>p_eta</th>\n",
       "      <th>nhits</th>\n",
       "      <th>r</th>\n",
       "      <th>phi</th>\n",
       "      <th>R</th>\n",
       "    </tr>\n",
       "  </thead>\n",
       "  <tbody>\n",
       "    <tr>\n",
       "      <th>0</th>\n",
       "      <td>0</td>\n",
       "      <td>49813</td>\n",
       "      <td>1801440400704017921</td>\n",
       "      <td>-201.925491</td>\n",
       "      <td>-330.148712</td>\n",
       "      <td>2197.500000</td>\n",
       "      <td>5.756312e+00</td>\n",
       "      <td>4.051085e-33</td>\n",
       "      <td>10349</td>\n",
       "      <td>49813</td>\n",
       "      <td>319796257688125440</td>\n",
       "      <td>-201.293701</td>\n",
       "      <td>-330.006805</td>\n",
       "      <td>2200.000000</td>\n",
       "      <td>0.096615</td>\n",
       "      <td>2.242992</td>\n",
       "      <td>9</td>\n",
       "      <td>387.003974</td>\n",
       "      <td>-2.119716</td>\n",
       "      <td>2.582498</td>\n",
       "    </tr>\n",
       "    <tr>\n",
       "      <th>1</th>\n",
       "      <td>1</td>\n",
       "      <td>22170</td>\n",
       "      <td>1224979648400753152</td>\n",
       "      <td>159.249619</td>\n",
       "      <td>62.054855</td>\n",
       "      <td>14.334743</td>\n",
       "      <td>2.041854e-05</td>\n",
       "      <td>2.250000e-04</td>\n",
       "      <td>2491</td>\n",
       "      <td>22170</td>\n",
       "      <td>495533405262315520</td>\n",
       "      <td>164.222824</td>\n",
       "      <td>64.575760</td>\n",
       "      <td>15.278932</td>\n",
       "      <td>0.404886</td>\n",
       "      <td>0.157359</td>\n",
       "      <td>5</td>\n",
       "      <td>170.912978</td>\n",
       "      <td>0.371570</td>\n",
       "      <td>5.655017</td>\n",
       "    </tr>\n",
       "    <tr>\n",
       "      <th>2</th>\n",
       "      <td>2</td>\n",
       "      <td>10737</td>\n",
       "      <td>1224979236083784960</td>\n",
       "      <td>-32.999035</td>\n",
       "      <td>-6.522222</td>\n",
       "      <td>-20.489441</td>\n",
       "      <td>8.775257e-05</td>\n",
       "      <td>2.250000e-04</td>\n",
       "      <td>667</td>\n",
       "      <td>10737</td>\n",
       "      <td>684547144769601536</td>\n",
       "      <td>-38.547379</td>\n",
       "      <td>-7.814959</td>\n",
       "      <td>-19.428657</td>\n",
       "      <td>0.490690</td>\n",
       "      <td>0.182982</td>\n",
       "      <td>2</td>\n",
       "      <td>33.637415</td>\n",
       "      <td>-2.946459</td>\n",
       "      <td>5.794873</td>\n",
       "    </tr>\n",
       "    <tr>\n",
       "      <th>3</th>\n",
       "      <td>3</td>\n",
       "      <td>19422</td>\n",
       "      <td>1224979510961781248</td>\n",
       "      <td>73.158859</td>\n",
       "      <td>-88.356224</td>\n",
       "      <td>-92.615395</td>\n",
       "      <td>2.101309e-05</td>\n",
       "      <td>2.250000e-04</td>\n",
       "      <td>1690</td>\n",
       "      <td>19422</td>\n",
       "      <td>562949953656193024</td>\n",
       "      <td>77.150490</td>\n",
       "      <td>-92.650147</td>\n",
       "      <td>-93.346474</td>\n",
       "      <td>0.455128</td>\n",
       "      <td>-0.126658</td>\n",
       "      <td>4</td>\n",
       "      <td>114.712863</td>\n",
       "      <td>-0.879214</td>\n",
       "      <td>5.908076</td>\n",
       "    </tr>\n",
       "    <tr>\n",
       "      <th>4</th>\n",
       "      <td>4</td>\n",
       "      <td>20641</td>\n",
       "      <td>1224979648400613376</td>\n",
       "      <td>79.068810</td>\n",
       "      <td>151.709717</td>\n",
       "      <td>65.060585</td>\n",
       "      <td>2.211554e-05</td>\n",
       "      <td>2.250000e-04</td>\n",
       "      <td>1945</td>\n",
       "      <td>20641</td>\n",
       "      <td>810647934453415936</td>\n",
       "      <td>82.133965</td>\n",
       "      <td>156.183151</td>\n",
       "      <td>68.187294</td>\n",
       "      <td>0.432359</td>\n",
       "      <td>0.548457</td>\n",
       "      <td>5</td>\n",
       "      <td>171.078096</td>\n",
       "      <td>1.090345</td>\n",
       "      <td>6.259640</td>\n",
       "    </tr>\n",
       "    <tr>\n",
       "      <th>...</th>\n",
       "      <td>...</td>\n",
       "      <td>...</td>\n",
       "      <td>...</td>\n",
       "      <td>...</td>\n",
       "      <td>...</td>\n",
       "      <td>...</td>\n",
       "      <td>...</td>\n",
       "      <td>...</td>\n",
       "      <td>...</td>\n",
       "      <td>...</td>\n",
       "      <td>...</td>\n",
       "      <td>...</td>\n",
       "      <td>...</td>\n",
       "      <td>...</td>\n",
       "      <td>...</td>\n",
       "      <td>...</td>\n",
       "      <td>...</td>\n",
       "      <td>...</td>\n",
       "      <td>...</td>\n",
       "      <td>...</td>\n",
       "    </tr>\n",
       "    <tr>\n",
       "      <th>65205</th>\n",
       "      <td>65205</td>\n",
       "      <td>8871</td>\n",
       "      <td>1224979236083767296</td>\n",
       "      <td>0.019631</td>\n",
       "      <td>32.189327</td>\n",
       "      <td>31.870542</td>\n",
       "      <td>1.302871e-05</td>\n",
       "      <td>2.250000e-04</td>\n",
       "      <td>598</td>\n",
       "      <td>8871</td>\n",
       "      <td>842173131375247360</td>\n",
       "      <td>-440.629028</td>\n",
       "      <td>1118.324710</td>\n",
       "      <td>-3977.405030</td>\n",
       "      <td>0.937098</td>\n",
       "      <td>-1.921106</td>\n",
       "      <td>15</td>\n",
       "      <td>32.189333</td>\n",
       "      <td>1.570186</td>\n",
       "      <td>4177.098506</td>\n",
       "    </tr>\n",
       "    <tr>\n",
       "      <th>65206</th>\n",
       "      <td>65206</td>\n",
       "      <td>8790</td>\n",
       "      <td>1224979236083767040</td>\n",
       "      <td>4.784593</td>\n",
       "      <td>32.763886</td>\n",
       "      <td>-50.224243</td>\n",
       "      <td>6.174025e-05</td>\n",
       "      <td>2.250000e-04</td>\n",
       "      <td>597</td>\n",
       "      <td>8790</td>\n",
       "      <td>689050747936964608</td>\n",
       "      <td>1062.763550</td>\n",
       "      <td>-136.093155</td>\n",
       "      <td>4002.000000</td>\n",
       "      <td>0.323117</td>\n",
       "      <td>1.630918</td>\n",
       "      <td>13</td>\n",
       "      <td>33.111396</td>\n",
       "      <td>1.425789</td>\n",
       "      <td>4191.461975</td>\n",
       "    </tr>\n",
       "    <tr>\n",
       "      <th>65207</th>\n",
       "      <td>65207</td>\n",
       "      <td>8378</td>\n",
       "      <td>1224979236083763456</td>\n",
       "      <td>4.621388</td>\n",
       "      <td>31.889194</td>\n",
       "      <td>-52.426357</td>\n",
       "      <td>1.484372e-05</td>\n",
       "      <td>2.250000e-04</td>\n",
       "      <td>583</td>\n",
       "      <td>8378</td>\n",
       "      <td>689050747936964608</td>\n",
       "      <td>1062.763550</td>\n",
       "      <td>-136.093155</td>\n",
       "      <td>4002.000000</td>\n",
       "      <td>0.323117</td>\n",
       "      <td>1.630918</td>\n",
       "      <td>13</td>\n",
       "      <td>32.222321</td>\n",
       "      <td>1.426878</td>\n",
       "      <td>4193.597023</td>\n",
       "    </tr>\n",
       "    <tr>\n",
       "      <th>65208</th>\n",
       "      <td>65208</td>\n",
       "      <td>8060</td>\n",
       "      <td>1224979236083760128</td>\n",
       "      <td>24.827419</td>\n",
       "      <td>21.136827</td>\n",
       "      <td>63.046661</td>\n",
       "      <td>3.556489e-05</td>\n",
       "      <td>2.250000e-04</td>\n",
       "      <td>570</td>\n",
       "      <td>8060</td>\n",
       "      <td>860187529398190080</td>\n",
       "      <td>1133.841430</td>\n",
       "      <td>-399.008362</td>\n",
       "      <td>-3959.472660</td>\n",
       "      <td>0.414379</td>\n",
       "      <td>-1.754741</td>\n",
       "      <td>17</td>\n",
       "      <td>32.606230</td>\n",
       "      <td>0.705277</td>\n",
       "      <td>4193.697145</td>\n",
       "    </tr>\n",
       "    <tr>\n",
       "      <th>65209</th>\n",
       "      <td>65209</td>\n",
       "      <td>7961</td>\n",
       "      <td>1224979236083759872</td>\n",
       "      <td>20.055248</td>\n",
       "      <td>24.881985</td>\n",
       "      <td>-44.667645</td>\n",
       "      <td>1.520817e-07</td>\n",
       "      <td>2.250000e-04</td>\n",
       "      <td>569</td>\n",
       "      <td>7961</td>\n",
       "      <td>689070537367879680</td>\n",
       "      <td>1139.220090</td>\n",
       "      <td>-339.293701</td>\n",
       "      <td>4002.000000</td>\n",
       "      <td>0.343869</td>\n",
       "      <td>1.661686</td>\n",
       "      <td>13</td>\n",
       "      <td>31.958194</td>\n",
       "      <td>0.892399</td>\n",
       "      <td>4214.341336</td>\n",
       "    </tr>\n",
       "  </tbody>\n",
       "</table>\n",
       "<p>65210 rows × 20 columns</p>\n",
       "</div>"
      ],
      "text/plain": [
       "       index  measurement_id          geometry_id           x           y  \\\n",
       "0          0           49813  1801440400704017921 -201.925491 -330.148712   \n",
       "1          1           22170  1224979648400753152  159.249619   62.054855   \n",
       "2          2           10737  1224979236083784960  -32.999035   -6.522222   \n",
       "3          3           19422  1224979510961781248   73.158859  -88.356224   \n",
       "4          4           20641  1224979648400613376   79.068810  151.709717   \n",
       "...      ...             ...                  ...         ...         ...   \n",
       "65205  65205            8871  1224979236083767296    0.019631   32.189327   \n",
       "65206  65206            8790  1224979236083767040    4.784593   32.763886   \n",
       "65207  65207            8378  1224979236083763456    4.621388   31.889194   \n",
       "65208  65208            8060  1224979236083760128   24.827419   21.136827   \n",
       "65209  65209            7961  1224979236083759872   20.055248   24.881985   \n",
       "\n",
       "                 z         var_r         var_z   umid  hit_id  \\\n",
       "0      2197.500000  5.756312e+00  4.051085e-33  10349   49813   \n",
       "1        14.334743  2.041854e-05  2.250000e-04   2491   22170   \n",
       "2       -20.489441  8.775257e-05  2.250000e-04    667   10737   \n",
       "3       -92.615395  2.101309e-05  2.250000e-04   1690   19422   \n",
       "4        65.060585  2.211554e-05  2.250000e-04   1945   20641   \n",
       "...            ...           ...           ...    ...     ...   \n",
       "65205    31.870542  1.302871e-05  2.250000e-04    598    8871   \n",
       "65206   -50.224243  6.174025e-05  2.250000e-04    597    8790   \n",
       "65207   -52.426357  1.484372e-05  2.250000e-04    583    8378   \n",
       "65208    63.046661  3.556489e-05  2.250000e-04    570    8060   \n",
       "65209   -44.667645  1.520817e-07  2.250000e-04    569    7961   \n",
       "\n",
       "              particle_id           vx           vy           vz      p_pt  \\\n",
       "0      319796257688125440  -201.293701  -330.006805  2200.000000  0.096615   \n",
       "1      495533405262315520   164.222824    64.575760    15.278932  0.404886   \n",
       "2      684547144769601536   -38.547379    -7.814959   -19.428657  0.490690   \n",
       "3      562949953656193024    77.150490   -92.650147   -93.346474  0.455128   \n",
       "4      810647934453415936    82.133965   156.183151    68.187294  0.432359   \n",
       "...                   ...          ...          ...          ...       ...   \n",
       "65205  842173131375247360  -440.629028  1118.324710 -3977.405030  0.937098   \n",
       "65206  689050747936964608  1062.763550  -136.093155  4002.000000  0.323117   \n",
       "65207  689050747936964608  1062.763550  -136.093155  4002.000000  0.323117   \n",
       "65208  860187529398190080  1133.841430  -399.008362 -3959.472660  0.414379   \n",
       "65209  689070537367879680  1139.220090  -339.293701  4002.000000  0.343869   \n",
       "\n",
       "          p_eta  nhits           r       phi            R  \n",
       "0      2.242992      9  387.003974 -2.119716     2.582498  \n",
       "1      0.157359      5  170.912978  0.371570     5.655017  \n",
       "2      0.182982      2   33.637415 -2.946459     5.794873  \n",
       "3     -0.126658      4  114.712863 -0.879214     5.908076  \n",
       "4      0.548457      5  171.078096  1.090345     6.259640  \n",
       "...         ...    ...         ...       ...          ...  \n",
       "65205 -1.921106     15   32.189333  1.570186  4177.098506  \n",
       "65206  1.630918     13   33.111396  1.425789  4191.461975  \n",
       "65207  1.630918     13   32.222321  1.426878  4193.597023  \n",
       "65208 -1.754741     17   32.606230  0.705277  4193.697145  \n",
       "65209  1.661686     13   31.958194  0.892399  4214.341336  \n",
       "\n",
       "[65210 rows x 20 columns]"
      ]
     },
     "execution_count": 6,
     "metadata": {},
     "output_type": "execute_result"
    }
   ],
   "source": [
    "reader.read_event(0)"
   ]
  },
  {
   "cell_type": "code",
   "execution_count": 7,
   "id": "fa08cba9-7732-452f-82b7-e9893f48b06a",
   "metadata": {
    "tags": []
   },
   "outputs": [],
   "source": [
    "import matplotlib.pyplot as plt"
   ]
  },
  {
   "cell_type": "code",
   "execution_count": 16,
   "id": "5b2d4f41-437b-4bf7-9686-a68d9baaf625",
   "metadata": {
    "tags": []
   },
   "outputs": [
    {
     "data": {
      "text/plain": [
       "(array([ 32., 297., 696., 727., 716., 540., 445., 328., 243., 198., 159.,\n",
       "        128.,  93.,  73.,  66.,  41.,  42.,  39.,  28.,  30.,  22.,  29.,\n",
       "         12.,  17.,  12.,  13.,  10.,   6.,   7.,   3.,   6.,   4.,   7.,\n",
       "          5.,   4.,   3.,   3.,   3.,   3.,   4.]),\n",
       " array([0. , 0.1, 0.2, 0.3, 0.4, 0.5, 0.6, 0.7, 0.8, 0.9, 1. , 1.1, 1.2,\n",
       "        1.3, 1.4, 1.5, 1.6, 1.7, 1.8, 1.9, 2. , 2.1, 2.2, 2.3, 2.4, 2.5,\n",
       "        2.6, 2.7, 2.8, 2.9, 3. , 3.1, 3.2, 3.3, 3.4, 3.5, 3.6, 3.7, 3.8,\n",
       "        3.9, 4. ]),\n",
       " <BarContainer object of 40 artists>)"
      ]
     },
     "execution_count": 16,
     "metadata": {},
     "output_type": "execute_result"
    },
    {
     "data": {
      "image/png": "[encoded data removed]",
      "text/plain": [
       "<Figure size 640x480 with 1 Axes>"
      ]
     },
     "metadata": {},
     "output_type": "display_data"
    }
   ],
   "source": [
    "plt.hist(reader.particles.p_pt, bins=40, range=(0, 4), log=True)"
   ]
  },
  {
   "cell_type": "code",
   "execution_count": 27,
   "id": "fdd894b9-6660-49f4-b54d-71b8a8c10df1",
   "metadata": {
    "tags": []
   },
   "outputs": [
    {
     "data": {
      "text/plain": [
       "22.57993746075299"
      ]
     },
     "execution_count": 27,
     "metadata": {},
     "output_type": "execute_result"
    }
   ],
   "source": [
    "reader.particles.p_pt.max()"
   ]
  },
  {
   "cell_type": "code",
   "execution_count": 17,
   "id": "97c18a18-fef9-4a53-81be-d8c5b9bf224d",
   "metadata": {
    "tags": []
   },
   "outputs": [
    {
     "data": {
      "text/plain": [
       "(5128, 15)"
      ]
     },
     "execution_count": 17,
     "metadata": {},
     "output_type": "execute_result"
    }
   ],
   "source": [
    "reader.particles.shape"
   ]
  },
  {
   "cell_type": "code",
   "execution_count": 24,
   "id": "ab3a5611-1b2a-4eb3-8778-ea0130a0359d",
   "metadata": {
    "tags": []
   },
   "outputs": [],
   "source": [
    "all_particle_fname = \"/pscratch/sd/x/xju/LLMTracking/acts/run/v2/event000000000-particles.csv\"\n",
    "all_particles = pd.read_csv(all_particle_fname)\n",
    "pt = np.sqrt(all_particles.px**2 + all_particles.py**2)\n",
    "eta ="
   ]
  },
  {
   "cell_type": "code",
   "execution_count": 28,
   "id": "835392db-f19c-49fa-b3d4-5e15950caada",
   "metadata": {
    "tags": []
   },
   "outputs": [],
   "source": [
    "pt = pt[(all_particles['q'] != 0) & (all_particles['p_eta'].abs() < 4)]"
   ]
  },
  {
   "cell_type": "code",
   "execution_count": 29,
   "id": "d0bf319e-3fd6-4bed-a868-99a898e813df",
   "metadata": {
    "tags": []
   },
   "outputs": [
    {
     "data": {
      "text/plain": [
       "(array([1149., 2426., 2518., 2138., 1740., 1233.,  974.,  725.,  489.,\n",
       "         380.,  298.,  244.,  187.,  133.,  111.,   85.,   84.,   63.,\n",
       "          56.,   39.,   33.,   50.,   18.,   22.,   21.,   23.,   16.,\n",
       "          12.,   14.,    6.,    8.,   10.,   12.,    5.,    7.,    6.,\n",
       "           3.,    4.,    4.,    3.]),\n",
       " array([0. , 0.1, 0.2, 0.3, 0.4, 0.5, 0.6, 0.7, 0.8, 0.9, 1. , 1.1, 1.2,\n",
       "        1.3, 1.4, 1.5, 1.6, 1.7, 1.8, 1.9, 2. , 2.1, 2.2, 2.3, 2.4, 2.5,\n",
       "        2.6, 2.7, 2.8, 2.9, 3. , 3.1, 3.2, 3.3, 3.4, 3.5, 3.6, 3.7, 3.8,\n",
       "        3.9, 4. ]),\n",
       " <BarContainer object of 40 artists>)"
      ]
     },
     "execution_count": 29,
     "metadata": {},
     "output_type": "execute_result"
    },
    {
     "data": {
      "image/png": "[encoded data removed]",
      "text/plain": [
       "<Figure size 640x480 with 1 Axes>"
      ]
     },
     "metadata": {},
     "output_type": "display_data"
    }
   ],
   "source": [
    "plt.hist(pt, bins=40, range=(0, 4), log=True)"
   ]
  },
  {
   "cell_type": "raw",
   "id": "dff36365-6d11-4a75-a921-50fd3b9eb896",
   "metadata": {
    "tags": []
   },
   "source": [
    "pt.shape"
   ]
  },
  {
   "cell_type": "code",
   "execution_count": 31,
   "id": "49ddb333-d386-4893-870c-7f2e9db803e4",
   "metadata": {
    "tags": []
   },
   "outputs": [
    {
     "data": {
      "text/plain": [
       "(2, 60106)"
      ]
     },
     "execution_count": 31,
     "metadata": {},
     "output_type": "execute_result"
    }
   ],
   "source": [
    "reader.true_edges.shape"
   ]
  },
  {
   "cell_type": "code",
   "execution_count": 35,
   "id": "02dbff04-6071-45d0-a0d7-3f2399871ad8",
   "metadata": {
    "tags": []
   },
   "outputs": [
    {
     "data": {
      "text/plain": [
       "(20,)"
      ]
     },
     "execution_count": 35,
     "metadata": {},
     "output_type": "execute_result"
    }
   ],
   "source": [
    "reader.spacepoints.columns"
   ]
  },
  {
   "cell_type": "code",
   "execution_count": 34,
   "id": "e89f8df1-8bd0-4a69-9f00-0f6607fc2e09",
   "metadata": {
    "tags": []
   },
   "outputs": [
    {
     "data": {
      "text/plain": [
       "Index(['particle_id', 'particle_type', 'process', 'vx', 'vy', 'vz', 'vt', 'px',\n",
       "       'py', 'pz', 'm', 'q', 'p_pt', 'p_radius', 'p_eta'],\n",
       "      dtype='object')"
      ]
     },
     "execution_count": 34,
     "metadata": {},
     "output_type": "execute_result"
    }
   ],
   "source": [
    "reader.particles.columns"
   ]
  },
  {
   "cell_type": "code",
   "execution_count": null,
   "id": "ff4b1757-5c7e-4aec-8205-7b4007ae2dc9",
   "metadata": {},
   "outputs": [],
   "source": []
  }
 ],
 "metadata": {
  "kernelspec": {
   "display_name": "Python 3",
   "language": "python",
   "name": "python3"
  },
  "language_info": {
   "codemirror_mode": {
    "name": "ipython",
    "version": 3
   },
   "file_extension": ".py",
   "mimetype": "text/x-python",
   "name": "python",
   "nbconvert_exporter": "python",
   "pygments_lexer": "ipython3",
   "version": "3.9.18"
  }
 },
 "nbformat": 4,
 "nbformat_minor": 5
}
