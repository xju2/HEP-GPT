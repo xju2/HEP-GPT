{
 "cells": [
  {
   "cell_type": "code",
   "execution_count": 1,
   "id": "2600c6f5-8247-497e-a97e-9d5d8443d6fc",
   "metadata": {
    "tags": []
   },
   "outputs": [],
   "source": [
    "%load_ext autoreload\n",
    "%autoreload 2"
   ]
  },
  {
   "cell_type": "code",
   "execution_count": 2,
   "id": "31688284-0c8a-43e6-ba95-8782e7f977cd",
   "metadata": {
    "tags": []
   },
   "outputs": [
    {
     "name": "stdout",
     "output_type": "stream",
     "text": [
      "/pscratch/sd/x/xju/venv/llm/bin/python\n"
     ]
    }
   ],
   "source": [
    "!which python"
   ]
  },
  {
   "cell_type": "code",
   "execution_count": 3,
   "id": "d19014e4-cf8a-41db-ab6d-61bccff723e9",
   "metadata": {
    "tags": []
   },
   "outputs": [
    {
     "name": "stdout",
     "output_type": "stream",
     "text": [
      "2.1.0+cu118\n",
      "True\n"
     ]
    }
   ],
   "source": [
    "import torch\n",
    "print(torch.__version__)\n",
    "print(torch.cuda.is_available())"
   ]
  },
  {
   "cell_type": "code",
   "execution_count": 4,
   "id": "6c2d4434-6cba-4d69-9ae4-a53d5327d2ae",
   "metadata": {
    "tags": []
   },
   "outputs": [],
   "source": [
    "import sys\n",
    "\n",
    "sys.path.append(\"..\")"
   ]
  },
  {
   "cell_type": "markdown",
   "id": "df73e264-c2dc-48f2-9c4a-6abb0fdfef16",
   "metadata": {},
   "source": [
    "## Check input data"
   ]
  },
  {
   "cell_type": "code",
   "execution_count": 5,
   "id": "1b545edb-0924-4fcb-a73e-c45e5765705a",
   "metadata": {},
   "outputs": [],
   "source": [
    "import os\n",
    "import numpy as np\n",
    "from pathlib import Path\n",
    "import matplotlib.pyplot as plt"
   ]
  },
  {
   "cell_type": "code",
   "execution_count": 6,
   "id": "6dab1df7-2e4e-40cb-90c8-64c810237818",
   "metadata": {},
   "outputs": [],
   "source": [
    "input_data_dir = \"../data\"\n",
    "dataset = \"trackml\"\n",
    "data_dir = os.path.join(input_data_dir, dataset)\n",
    "train_data = np.memmap(os.path.join(data_dir, 'train.bin'), dtype=np.uint16, mode='r')\n",
    "val_data = np.memmap(os.path.join(data_dir, 'val.bin'), dtype=np.uint16, mode='r')"
   ]
  },
  {
   "cell_type": "code",
   "execution_count": 8,
   "id": "f21f3e44-5cb4-4f74-9616-6240e64429d8",
   "metadata": {},
   "outputs": [
    {
     "name": "stdout",
     "output_type": "stream",
     "text": [
      "# of tokens: 105,997,605\n",
      "# of tracks: 8,186,932\n"
     ]
    }
   ],
   "source": [
    "print(f\"# of tokens: {train_data.shape[0]:,}\")\n",
    "tokens, counts = np.unique(train_data, return_counts=True)\n",
    "print(f\"# of tracks: {counts[0]:,}\")"
   ]
  },
  {
   "cell_type": "markdown",
   "id": "606df11c-7b20-4e82-9634-9eaa211f6d51",
   "metadata": {},
   "source": [
    "## Check data reader"
   ]
  },
  {
   "cell_type": "code",
   "execution_count": 5,
   "id": "6864132a-3419-4354-825b-e4367f649b02",
   "metadata": {
    "tags": []
   },
   "outputs": [],
   "source": [
    "from src.datamodules.trackml import TrackMLDataSet"
   ]
  },
  {
   "cell_type": "code",
   "execution_count": 6,
   "id": "d32d4798-e470-4845-bc04-7713e58683cf",
   "metadata": {
    "tags": []
   },
   "outputs": [],
   "source": [
    "val_dataset = TrackMLDataSet(\"../data/trackml_fixed_length/v1_evt10_val.bin\", block_size=22, do_randomize=True)"
   ]
  },
  {
   "cell_type": "code",
   "execution_count": 33,
   "id": "00ba9c55-243e-4d9b-a0cc-3c7c554179a9",
   "metadata": {
    "tags": []
   },
   "outputs": [
    {
     "data": {
      "text/plain": [
       "numpy.memmap"
      ]
     },
     "execution_count": 33,
     "metadata": {},
     "output_type": "execute_result"
    }
   ],
   "source": [
    "type(val_dataset.data)"
   ]
  },
  {
   "cell_type": "code",
   "execution_count": 23,
   "id": "c830d95a-7844-47f4-8e12-7877e50b7fbb",
   "metadata": {
    "tags": []
   },
   "outputs": [
    {
     "data": {
      "text/plain": [
       "((1784046,), 22)"
      ]
     },
     "execution_count": 23,
     "metadata": {},
     "output_type": "execute_result"
    }
   ],
   "source": [
    "val_dataset.data.shape, val_dataset.block_size"
   ]
  },
  {
   "cell_type": "code",
   "execution_count": 25,
   "id": "5d7cc9d4-3536-4b58-9159-0584e89fc8ef",
   "metadata": {
    "tags": []
   },
   "outputs": [
    {
     "data": {
      "text/plain": [
       "81093"
      ]
     },
     "execution_count": 25,
     "metadata": {},
     "output_type": "execute_result"
    }
   ],
   "source": [
    "val_dataset.data.shape[0] // val_dataset.block_size"
   ]
  },
  {
   "cell_type": "code",
   "execution_count": 29,
   "id": "6a66f0a7-ea19-4942-87e2-72a180347b5d",
   "metadata": {
    "tags": []
   },
   "outputs": [
    {
     "data": {
      "text/plain": [
       "(tensor([1246, 1907, 2949, 5595,    4,    7,    7,    7,    7,    7,    7,    7,\n",
       "            7,    7,    7,    7,    7,    7,    7,    3, 6659, 8219]),\n",
       " tensor([1907, 2949, 5595,    4,    7,    7,    7,    7,    7,    7,    7,    7,\n",
       "            7,    7,    7,    7,    7,    7,    3, 6659, 8219, 8220]))"
      ]
     },
     "execution_count": 29,
     "metadata": {},
     "output_type": "execute_result"
    }
   ],
   "source": [
    "val_dataset[0]"
   ]
  },
  {
   "cell_type": "code",
   "execution_count": 30,
   "id": "a5ece0ae-25d4-41fb-ab52-9c3bed140a96",
   "metadata": {
    "tags": []
   },
   "outputs": [
    {
     "data": {
      "text/plain": [
       "(tensor([   7,    7,    7,    7,    3, 1897, 2851, 5503, 6528, 6529, 7957, 7958,\n",
       "         8035, 8036,    4,    7,    7,    7,    7,    7,    7,    7]),\n",
       " tensor([   7,    7,    7,    3, 1897, 2851, 5503, 6528, 6529, 7957, 7958, 8035,\n",
       "         8036,    4,    7,    7,    7,    7,    7,    7,    7,    7]))"
      ]
     },
     "execution_count": 30,
     "metadata": {},
     "output_type": "execute_result"
    }
   ],
   "source": [
    "val_dataset[0]"
   ]
  },
  {
   "cell_type": "code",
   "execution_count": 7,
   "id": "2a00545b-2ef2-432e-a04a-7b5656472216",
   "metadata": {
    "tags": []
   },
   "outputs": [],
   "source": [
    "for data in val_dataset:\n",
    "    break"
   ]
  },
  {
   "cell_type": "code",
   "execution_count": 10,
   "id": "8fb4a5ed-fbc0-4fcc-b589-1f02eacdedae",
   "metadata": {
    "tags": []
   },
   "outputs": [
    {
     "data": {
      "text/plain": [
       "(torch.Size([22]), torch.Size([22]))"
      ]
     },
     "execution_count": 10,
     "metadata": {},
     "output_type": "execute_result"
    }
   ],
   "source": [
    "data[0].shape, data[1].shape"
   ]
  },
  {
   "cell_type": "code",
   "execution_count": 11,
   "id": "79ae7dd2-ce07-422a-81a4-7032bd2ac18a",
   "metadata": {
    "tags": []
   },
   "outputs": [],
   "source": [
    "val_dataset_norandom = TrackMLDataSet(\"../data/trackml_fixed_length/v1_evt10_val.bin\", block_size=22, do_randomize=False)"
   ]
  },
  {
   "cell_type": "code",
   "execution_count": 31,
   "id": "c64db00a-12a6-4599-8dee-86be841ccb82",
   "metadata": {
    "tags": []
   },
   "outputs": [
    {
     "name": "stdout",
     "output_type": "stream",
     "text": [
      "(tensor([   3, 3324, 3327, 3432, 3435, 3540, 3543, 3648, 3651, 3756, 3759, 3864,\n",
      "        3974, 3976,    4,    7,    7,    7,    7,    7,    7,    7]), tensor([3324, 3327, 3432, 3435, 3540, 3543, 3648, 3651, 3756, 3759, 3864, 3974,\n",
      "        3976,    4,    7,    7,    7,    7,    7,    7,    7,    3]))\n",
      "(tensor([    3,   857,   858,  1143,  1583,  2229,  4668,  4836,  5007,  5186,\n",
      "         5975, 12032, 12129,     4,     7,     7,     7,     7,     7,     7,\n",
      "            7,     7]), tensor([  857,   858,  1143,  1583,  2229,  4668,  4836,  5007,  5186,  5975,\n",
      "        12032, 12129,     4,     7,     7,     7,     7,     7,     7,     7,\n",
      "            7,     3]))\n",
      "(tensor([    3,   859,  1113,  1114,  1535,  1536,  4674,  4843,  4846,  5016,\n",
      "         5148,  5149, 11934, 11936, 12033,     4,     7,     7,     7,     7,\n",
      "            7,     7]), tensor([  859,  1113,  1114,  1535,  1536,  4674,  4843,  4846,  5016,  5148,\n",
      "         5149, 11934, 11936, 12033,     4,     7,     7,     7,     7,     7,\n",
      "            7,     3]))\n"
     ]
    }
   ],
   "source": [
    "for idx, data_norandom in enumerate(val_dataset_norandom):\n",
    "    if idx > 2: \n",
    "        break\n",
    "    print(data_norandom)"
   ]
  },
  {
   "cell_type": "code",
   "execution_count": 14,
   "id": "2604943c-b0d1-45e1-a4a0-c3854ec6e963",
   "metadata": {
    "tags": []
   },
   "outputs": [
    {
     "data": {
      "text/plain": [
       "(torch.Size([22]), torch.Size([22]))"
      ]
     },
     "execution_count": 14,
     "metadata": {},
     "output_type": "execute_result"
    }
   ],
   "source": [
    "data_norandom[0].shape, data_norandom[1].shape"
   ]
  },
  {
   "cell_type": "code",
   "execution_count": 17,
   "id": "9498c15b-3f99-4fed-9bcb-e28d07cae07c",
   "metadata": {
    "tags": []
   },
   "outputs": [
    {
     "data": {
      "text/plain": [
       "(tensor([ 3314,  3423,  3531,  3641, 11095, 11265, 11437, 11607, 11779,     4,\n",
       "             7,     7,     7,     7,     7,     7,     7,     7,     7,     3,\n",
       "           963,  3300]),\n",
       " tensor([ 3423,  3531,  3641, 11095, 11265, 11437, 11607, 11779,     4,     7,\n",
       "             7,     7,     7,     7,     7,     7,     7,     7,     3,   963,\n",
       "          3300,  3303]))"
      ]
     },
     "execution_count": 17,
     "metadata": {},
     "output_type": "execute_result"
    }
   ],
   "source": [
    "data_norandom"
   ]
  },
  {
   "cell_type": "markdown",
   "id": "97f652e3",
   "metadata": {},
   "source": [
    "## Performance"
   ]
  },
  {
   "cell_type": "code",
   "execution_count": 29,
   "id": "2aaafbeb",
   "metadata": {},
   "outputs": [
    {
     "data": {
      "text/plain": [
       "<matplotlib.legend.Legend at 0x7f2890a5d910>"
      ]
     },
     "execution_count": 29,
     "metadata": {},
     "output_type": "execute_result"
    },
    {
     "data": {
      "image/png": "[encoded data removed]",
      "text/plain": [
       "<Figure size 640x480 with 1 Axes>"
      ]
     },
     "metadata": {},
     "output_type": "display_data"
    }
   ],
   "source": [
    "fontsize = 16\n",
    "data_size = [1, 10, 100]\n",
    "val_loss = [3.9347, 2.3281, 1.7158]\n",
    "\n",
    "predict_data_size = [1000, 10_000, 100_000]\n",
    "prdict_loss = [1.2, 0.8, 0.5]\n",
    "\n",
    "fontsize = 16\n",
    "plt.plot(data_size, val_loss, \"k-o\", label=\"measurements\")\n",
    "plt.xlabel(\"data size\", fontsize=fontsize)\n",
    "plt.ylabel(\"validation loss\", fontsize=fontsize)\n",
    "plt.xscale(\"log\")\n",
    "plt.scatter(predict_data_size, prdict_loss, c=\"r\", s=50, label=\"educated guess\")\n",
    "plt.plot([100]+ predict_data_size, [1.7158] + prdict_loss, \"r--\")\n",
    "plt.legend(fontsize=fontsize)\n"
   ]
  },
  {
   "cell_type": "markdown",
   "id": "37af696f",
   "metadata": {},
   "source": [
    "## nanoGPT input data"
   ]
  },
  {
   "cell_type": "code",
   "execution_count": 11,
   "id": "d6969d54-9856-49bb-b913-719a56961a30",
   "metadata": {},
   "outputs": [],
   "source": [
    "block_size = 1024\n",
    "batch_size = 12\n",
    "device = \"cuda\"\n",
    "device_type = \"cuda\"\n",
    "\n",
    "def get_batch(split: str = \"train\"):\n",
    "    data = train_data if split == 'train' else val_data\n",
    "    ix = torch.randint(len(data) - block_size, (batch_size,))\n",
    "    x = torch.stack([torch.from_numpy((data[i:i+block_size]).astype(np.int64)) for i in ix])\n",
    "    y = torch.stack([torch.from_numpy((data[i+1:i+1+block_size]).astype(np.int64)) for i in ix])\n",
    "    if device_type == 'cuda':\n",
    "        # pin arrays x,y, which allows us to move them to GPU asynchronously (non_blocking=True)\n",
    "        x, y = x.pin_memory().to(device, non_blocking=True), y.pin_memory().to(device, non_blocking=True)\n",
    "    else:\n",
    "        x, y = x.to(device), y.to(device)\n",
    "    return x, y"
   ]
  },
  {
   "cell_type": "code",
   "execution_count": 12,
   "id": "be3fdb3f-a709-4650-9c3a-f7fcef7025ff",
   "metadata": {},
   "outputs": [],
   "source": [
    "X, Y = get_batch('train')"
   ]
  },
  {
   "cell_type": "code",
   "execution_count": 14,
   "id": "a37e11d5-3914-407b-ad74-42a6f5f92e3c",
   "metadata": {},
   "outputs": [
    {
     "data": {
      "text/plain": [
       "torch.Size([12, 1024])"
      ]
     },
     "execution_count": 14,
     "metadata": {},
     "output_type": "execute_result"
    }
   ],
   "source": [
    "X.shape, Y.shape"
   ]
  },
  {
   "cell_type": "code",
   "execution_count": 16,
   "id": "a977280e-362a-4932-9d25-28fbd065151a",
   "metadata": {},
   "outputs": [
    {
     "data": {
      "text/plain": [
       "tensor([47, 52, 58,  ...,  1, 51, 63], device='cuda:0')"
      ]
     },
     "execution_count": 16,
     "metadata": {},
     "output_type": "execute_result"
    }
   ],
   "source": [
    "X[0], Y[0]"
   ]
  },
  {
   "cell_type": "markdown",
   "id": "8223cd1a-4fce-4ab5-aeee-80dd17885377",
   "metadata": {},
   "source": [
    "## Prepare Tracking data"
   ]
  },
  {
   "cell_type": "code",
   "execution_count": 24,
   "id": "11479ee4-4236-4c05-9e49-84aa68743064",
   "metadata": {},
   "outputs": [],
   "source": [
    "EVENT_START_TOKEN = 1\n",
    "EVENT_END_TOKEN = 2\n",
    "TRACK_START_TOKEN = 3\n",
    "TRACK_END_TOKEN = 4\n",
    "TRACK_HOLE_TOKEN = 5\n",
    "UNKNOWN_TOKEN = 6\n",
    "MASK_TOKEN = 7\n",
    "PAD_TOKEN = 8\n",
    "\n",
    "block_size = 18 + 2  # maximum number of hits for one track + START + END"
   ]
  },
  {
   "cell_type": "code",
   "execution_count": 25,
   "id": "18133e09-0414-404f-9faf-283e7e7f3584",
   "metadata": {},
   "outputs": [],
   "source": [
    "import os\n",
    "import numpy as np\n",
    "import pandas as pd\n",
    "\n",
    "## Reproduce umid_dict the same way as in process_data\n",
    "input_dir = \"/home/xju/ocean/data/TrackML/codalab_data\"\n",
    "detector_path = 'detector.csv'"
   ]
  },
  {
   "cell_type": "code",
   "execution_count": 124,
   "id": "7e505f07-5588-4f21-afe5-99f3ecebd110",
   "metadata": {},
   "outputs": [],
   "source": [
    "\n",
    "detector = pd.read_csv(Path(input_dir) / detector_path)\n",
    "\n",
    "detector_umid = np.stack([detector.volume_id, detector.layer_id, detector.module_id], axis=1)\n",
    "umid_dict = {}\n",
    "index = 7\n",
    "for i in detector_umid:\n",
    "    umid_dict[tuple(i)] = index\n",
    "    index += 1\n",
    "\n",
    "## Inverting the umid_dict\n",
    "umid_dict_inv = {v: k for k, v in umid_dict.items()}"
   ]
  },
  {
   "cell_type": "code",
   "execution_count": 12,
   "id": "75a4463d-9d7f-4a73-b357-7243998a117c",
   "metadata": {},
   "outputs": [],
   "source": [
    "pixel_moudels = [k for k in umid_dict.keys() if k[0] in [7, 8, 9]]"
   ]
  },
  {
   "cell_type": "code",
   "execution_count": 70,
   "id": "879b1778-c967-4ff9-989f-33461d3d8689",
   "metadata": {},
   "outputs": [
    {
     "name": "stdout",
     "output_type": "stream",
     "text": [
      "# of pixel moduels:  4004\n",
      "# of all modules:  18728\n"
     ]
    }
   ],
   "source": [
    "vocab_size = len(pixel_moudels)\n",
    "print(\"# of pixel moduels: \", vocab_size)\n",
    "print(\"# of all modules: \", len(umid_dict))"
   ]
  },
  {
   "cell_type": "markdown",
   "id": "b3ec6256-da25-43b5-9fc4-a7e1e789ea1c",
   "metadata": {},
   "source": [
    "## Torch Text"
   ]
  },
  {
   "cell_type": "code",
   "execution_count": 52,
   "id": "a8982c84-f202-4edf-83c8-43c36186cd71",
   "metadata": {},
   "outputs": [],
   "source": [
    "# import datasets\n",
    "from torchtext.datasets import IMDB\n",
    "\n",
    "train_iter = IMDB(split='train')\n",
    "\n",
    "def tokenize(label, line):\n",
    "    return line.split()\n",
    "\n",
    "tokens = []\n",
    "for label, line in train_iter:\n",
    "    tokens += tokenize(label, line)\n",
    "    break"
   ]
  },
  {
   "cell_type": "code",
   "execution_count": 54,
   "id": "c1720be3-23f1-4d4d-aa01-6023e787f42c",
   "metadata": {},
   "outputs": [
    {
     "data": {
      "text/plain": [
       "(1,\n",
       " 'I rented I AM CURIOUS-YELLOW from my video store because of all the controversy that surrounded it when it was first released in 1967. I also heard that at first it was seized by U.S. customs if it ever tried to enter this country, therefore being a fan of films considered \"controversial\" I really had to see this for myself.<br /><br />The plot is centered around a young Swedish drama student named Lena who wants to learn everything she can about life. In particular she wants to focus her attentions to making some sort of documentary on what the average Swede thought about certain political issues such as the Vietnam War and race issues in the United States. In between asking politicians and ordinary denizens of Stockholm about their opinions on politics, she has sex with her drama teacher, classmates, and married men.<br /><br />What kills me about I AM CURIOUS-YELLOW is that 40 years ago, this was considered pornographic. Really, the sex and nudity scenes are few and far between, even then it\\'s not shot like some cheaply made porno. While my countrymen mind find it shocking, in reality sex and nudity are a major staple in Swedish cinema. Even Ingmar Bergman, arguably their answer to good old boy John Ford, had sex scenes in his films.<br /><br />I do commend the filmmakers for the fact that any sex shown in the film is shown for artistic purposes rather than just to shock people and make money to be shown in pornographic theaters in America. I AM CURIOUS-YELLOW is a good film for anyone wanting to study the meat and potatoes (no pun intended) of Swedish cinema. But really, this film doesn\\'t have much of a plot.')"
      ]
     },
     "execution_count": 54,
     "metadata": {},
     "output_type": "execute_result"
    }
   ],
   "source": [
    "label, line"
   ]
  },
  {
   "cell_type": "code",
   "execution_count": 55,
   "id": "90f599d4-ee9a-4f7c-add8-2a0724440ea8",
   "metadata": {},
   "outputs": [
    {
     "data": {
      "text/plain": [
       "['I',\n",
       " 'rented',\n",
       " 'I',\n",
       " 'AM',\n",
       " 'CURIOUS-YELLOW',\n",
       " 'from',\n",
       " 'my',\n",
       " 'video',\n",
       " 'store',\n",
       " 'because',\n",
       " 'of',\n",
       " 'all',\n",
       " 'the',\n",
       " 'controversy',\n",
       " 'that',\n",
       " 'surrounded',\n",
       " 'it',\n",
       " 'when',\n",
       " 'it',\n",
       " 'was',\n",
       " 'first',\n",
       " 'released',\n",
       " 'in',\n",
       " '1967.',\n",
       " 'I',\n",
       " 'also',\n",
       " 'heard',\n",
       " 'that',\n",
       " 'at',\n",
       " 'first',\n",
       " 'it',\n",
       " 'was',\n",
       " 'seized',\n",
       " 'by',\n",
       " 'U.S.',\n",
       " 'customs',\n",
       " 'if',\n",
       " 'it',\n",
       " 'ever',\n",
       " 'tried',\n",
       " 'to',\n",
       " 'enter',\n",
       " 'this',\n",
       " 'country,',\n",
       " 'therefore',\n",
       " 'being',\n",
       " 'a',\n",
       " 'fan',\n",
       " 'of',\n",
       " 'films',\n",
       " 'considered',\n",
       " '\"controversial\"',\n",
       " 'I',\n",
       " 'really',\n",
       " 'had',\n",
       " 'to',\n",
       " 'see',\n",
       " 'this',\n",
       " 'for',\n",
       " 'myself.<br',\n",
       " '/><br',\n",
       " '/>The',\n",
       " 'plot',\n",
       " 'is',\n",
       " 'centered',\n",
       " 'around',\n",
       " 'a',\n",
       " 'young',\n",
       " 'Swedish',\n",
       " 'drama',\n",
       " 'student',\n",
       " 'named',\n",
       " 'Lena',\n",
       " 'who',\n",
       " 'wants',\n",
       " 'to',\n",
       " 'learn',\n",
       " 'everything',\n",
       " 'she',\n",
       " 'can',\n",
       " 'about',\n",
       " 'life.',\n",
       " 'In',\n",
       " 'particular',\n",
       " 'she',\n",
       " 'wants',\n",
       " 'to',\n",
       " 'focus',\n",
       " 'her',\n",
       " 'attentions',\n",
       " 'to',\n",
       " 'making',\n",
       " 'some',\n",
       " 'sort',\n",
       " 'of',\n",
       " 'documentary',\n",
       " 'on',\n",
       " 'what',\n",
       " 'the',\n",
       " 'average',\n",
       " 'Swede',\n",
       " 'thought',\n",
       " 'about',\n",
       " 'certain',\n",
       " 'political',\n",
       " 'issues',\n",
       " 'such',\n",
       " 'as',\n",
       " 'the',\n",
       " 'Vietnam',\n",
       " 'War',\n",
       " 'and',\n",
       " 'race',\n",
       " 'issues',\n",
       " 'in',\n",
       " 'the',\n",
       " 'United',\n",
       " 'States.',\n",
       " 'In',\n",
       " 'between',\n",
       " 'asking',\n",
       " 'politicians',\n",
       " 'and',\n",
       " 'ordinary',\n",
       " 'denizens',\n",
       " 'of',\n",
       " 'Stockholm',\n",
       " 'about',\n",
       " 'their',\n",
       " 'opinions',\n",
       " 'on',\n",
       " 'politics,',\n",
       " 'she',\n",
       " 'has',\n",
       " 'sex',\n",
       " 'with',\n",
       " 'her',\n",
       " 'drama',\n",
       " 'teacher,',\n",
       " 'classmates,',\n",
       " 'and',\n",
       " 'married',\n",
       " 'men.<br',\n",
       " '/><br',\n",
       " '/>What',\n",
       " 'kills',\n",
       " 'me',\n",
       " 'about',\n",
       " 'I',\n",
       " 'AM',\n",
       " 'CURIOUS-YELLOW',\n",
       " 'is',\n",
       " 'that',\n",
       " '40',\n",
       " 'years',\n",
       " 'ago,',\n",
       " 'this',\n",
       " 'was',\n",
       " 'considered',\n",
       " 'pornographic.',\n",
       " 'Really,',\n",
       " 'the',\n",
       " 'sex',\n",
       " 'and',\n",
       " 'nudity',\n",
       " 'scenes',\n",
       " 'are',\n",
       " 'few',\n",
       " 'and',\n",
       " 'far',\n",
       " 'between,',\n",
       " 'even',\n",
       " 'then',\n",
       " \"it's\",\n",
       " 'not',\n",
       " 'shot',\n",
       " 'like',\n",
       " 'some',\n",
       " 'cheaply',\n",
       " 'made',\n",
       " 'porno.',\n",
       " 'While',\n",
       " 'my',\n",
       " 'countrymen',\n",
       " 'mind',\n",
       " 'find',\n",
       " 'it',\n",
       " 'shocking,',\n",
       " 'in',\n",
       " 'reality',\n",
       " 'sex',\n",
       " 'and',\n",
       " 'nudity',\n",
       " 'are',\n",
       " 'a',\n",
       " 'major',\n",
       " 'staple',\n",
       " 'in',\n",
       " 'Swedish',\n",
       " 'cinema.',\n",
       " 'Even',\n",
       " 'Ingmar',\n",
       " 'Bergman,',\n",
       " 'arguably',\n",
       " 'their',\n",
       " 'answer',\n",
       " 'to',\n",
       " 'good',\n",
       " 'old',\n",
       " 'boy',\n",
       " 'John',\n",
       " 'Ford,',\n",
       " 'had',\n",
       " 'sex',\n",
       " 'scenes',\n",
       " 'in',\n",
       " 'his',\n",
       " 'films.<br',\n",
       " '/><br',\n",
       " '/>I',\n",
       " 'do',\n",
       " 'commend',\n",
       " 'the',\n",
       " 'filmmakers',\n",
       " 'for',\n",
       " 'the',\n",
       " 'fact',\n",
       " 'that',\n",
       " 'any',\n",
       " 'sex',\n",
       " 'shown',\n",
       " 'in',\n",
       " 'the',\n",
       " 'film',\n",
       " 'is',\n",
       " 'shown',\n",
       " 'for',\n",
       " 'artistic',\n",
       " 'purposes',\n",
       " 'rather',\n",
       " 'than',\n",
       " 'just',\n",
       " 'to',\n",
       " 'shock',\n",
       " 'people',\n",
       " 'and',\n",
       " 'make',\n",
       " 'money',\n",
       " 'to',\n",
       " 'be',\n",
       " 'shown',\n",
       " 'in',\n",
       " 'pornographic',\n",
       " 'theaters',\n",
       " 'in',\n",
       " 'America.',\n",
       " 'I',\n",
       " 'AM',\n",
       " 'CURIOUS-YELLOW',\n",
       " 'is',\n",
       " 'a',\n",
       " 'good',\n",
       " 'film',\n",
       " 'for',\n",
       " 'anyone',\n",
       " 'wanting',\n",
       " 'to',\n",
       " 'study',\n",
       " 'the',\n",
       " 'meat',\n",
       " 'and',\n",
       " 'potatoes',\n",
       " '(no',\n",
       " 'pun',\n",
       " 'intended)',\n",
       " 'of',\n",
       " 'Swedish',\n",
       " 'cinema.',\n",
       " 'But',\n",
       " 'really,',\n",
       " 'this',\n",
       " 'film',\n",
       " \"doesn't\",\n",
       " 'have',\n",
       " 'much',\n",
       " 'of',\n",
       " 'a',\n",
       " 'plot.']"
      ]
     },
     "execution_count": 55,
     "metadata": {},
     "output_type": "execute_result"
    }
   ],
   "source": [
    "tokens"
   ]
  },
  {
   "cell_type": "code",
   "execution_count": null,
   "id": "37f02a22-5b4e-45ff-a4ba-b3c872d4641c",
   "metadata": {},
   "outputs": [],
   "source": []
  }
 ],
 "metadata": {
  "kernelspec": {
   "display_name": "a-transformer",
   "language": "python",
   "name": "transformer"
  },
  "language_info": {
   "codemirror_mode": {
    "name": "ipython",
    "version": 3
   },
   "file_extension": ".py",
   "mimetype": "text/x-python",
   "name": "python",
   "nbconvert_exporter": "python",
   "pygments_lexer": "ipython3",
   "version": "3.9.7"
  }
 },
 "nbformat": 4,
 "nbformat_minor": 5
}
