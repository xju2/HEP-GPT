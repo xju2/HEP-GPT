{
 "cells": [
  {
   "cell_type": "code",
   "execution_count": 2,
   "id": "2600c6f5-8247-497e-a97e-9d5d8443d6fc",
   "metadata": {},
   "outputs": [],
   "source": [
    "%load_ext autoreload\n",
    "%autoreload 2"
   ]
  },
  {
   "cell_type": "code",
   "execution_count": 3,
   "id": "31688284-0c8a-43e6-ba95-8782e7f977cd",
   "metadata": {},
   "outputs": [
    {
     "name": "stdout",
     "output_type": "stream",
     "text": [
      "/home/xju/ocean/venv/langchain_py3p9/bin/python\n"
     ]
    }
   ],
   "source": [
    "!which python"
   ]
  },
  {
   "cell_type": "code",
   "execution_count": 4,
   "id": "d19014e4-cf8a-41db-ab6d-61bccff723e9",
   "metadata": {},
   "outputs": [
    {
     "name": "stdout",
     "output_type": "stream",
     "text": [
      "2.1.0+cu121\n",
      "True\n"
     ]
    }
   ],
   "source": [
    "import torch\n",
    "print(torch.__version__)\n",
    "print(torch.cuda.is_available())"
   ]
  },
  {
   "cell_type": "markdown",
   "id": "df73e264-c2dc-48f2-9c4a-6abb0fdfef16",
   "metadata": {},
   "source": [
    "## nanoGPT input data"
   ]
  },
  {
   "cell_type": "code",
   "execution_count": 30,
   "id": "1b545edb-0924-4fcb-a73e-c45e5765705a",
   "metadata": {},
   "outputs": [],
   "source": [
    "import os\n",
    "import numpy as np\n",
    "from pathlib import Path\n",
    "import matplotlib.pyplot as plt"
   ]
  },
  {
   "cell_type": "code",
   "execution_count": 47,
   "id": "6dab1df7-2e4e-40cb-90c8-64c810237818",
   "metadata": {},
   "outputs": [],
   "source": [
    "input_data_dir = \"/home/xju/code/nanoGPT/data\"\n",
    "dataset = \"trackml\"\n",
    "data_dir = os.path.join(input_data_dir, dataset)\n",
    "train_data = np.memmap(os.path.join(data_dir, 'train.bin'), dtype=np.uint16, mode='r')\n",
    "val_data = np.memmap(os.path.join(data_dir, 'val.bin'), dtype=np.uint16, mode='r')"
   ]
  },
  {
   "cell_type": "code",
   "execution_count": 48,
   "id": "f21f3e44-5cb4-4f74-9616-6240e64429d8",
   "metadata": {},
   "outputs": [
    {
     "data": {
      "text/plain": [
       "(105997605,)"
      ]
     },
     "execution_count": 48,
     "metadata": {},
     "output_type": "execute_result"
    }
   ],
   "source": [
    "train_data.shape"
   ]
  },
  {
   "cell_type": "code",
   "execution_count": 49,
   "id": "6e4f1eed-6f71-4497-9c37-cf4937f9ef19",
   "metadata": {},
   "outputs": [
    {
     "name": "stdout",
     "output_type": "stream",
     "text": [
      "3 , 8186932\n"
     ]
    }
   ],
   "source": [
    "tokens, counts = np.unique(train_data, return_counts=True)\n",
    "print(tokens[0], \",\", counts[0])"
   ]
  },
  {
   "cell_type": "code",
   "execution_count": 11,
   "id": "d6969d54-9856-49bb-b913-719a56961a30",
   "metadata": {},
   "outputs": [],
   "source": [
    "block_size = 1024\n",
    "batch_size = 12\n",
    "device = \"cuda\"\n",
    "device_type = \"cuda\"\n",
    "\n",
    "def get_batch(split: str = \"train\"):\n",
    "    data = train_data if split == 'train' else val_data\n",
    "    ix = torch.randint(len(data) - block_size, (batch_size,))\n",
    "    x = torch.stack([torch.from_numpy((data[i:i+block_size]).astype(np.int64)) for i in ix])\n",
    "    y = torch.stack([torch.from_numpy((data[i+1:i+1+block_size]).astype(np.int64)) for i in ix])\n",
    "    if device_type == 'cuda':\n",
    "        # pin arrays x,y, which allows us to move them to GPU asynchronously (non_blocking=True)\n",
    "        x, y = x.pin_memory().to(device, non_blocking=True), y.pin_memory().to(device, non_blocking=True)\n",
    "    else:\n",
    "        x, y = x.to(device), y.to(device)\n",
    "    return x, y"
   ]
  },
  {
   "cell_type": "code",
   "execution_count": 12,
   "id": "be3fdb3f-a709-4650-9c3a-f7fcef7025ff",
   "metadata": {},
   "outputs": [],
   "source": [
    "X, Y = get_batch('train')"
   ]
  },
  {
   "cell_type": "code",
   "execution_count": 14,
   "id": "a37e11d5-3914-407b-ad74-42a6f5f92e3c",
   "metadata": {},
   "outputs": [
    {
     "data": {
      "text/plain": [
       "torch.Size([12, 1024])"
      ]
     },
     "execution_count": 14,
     "metadata": {},
     "output_type": "execute_result"
    }
   ],
   "source": [
    "X.shape"
   ]
  },
  {
   "cell_type": "code",
   "execution_count": 15,
   "id": "8b6f6be5-aefb-4d35-8a7d-ef78e6d000bb",
   "metadata": {},
   "outputs": [
    {
     "data": {
      "text/plain": [
       "torch.Size([12, 1024])"
      ]
     },
     "execution_count": 15,
     "metadata": {},
     "output_type": "execute_result"
    }
   ],
   "source": [
    "Y.shape"
   ]
  },
  {
   "cell_type": "code",
   "execution_count": 16,
   "id": "a977280e-362a-4932-9d25-28fbd065151a",
   "metadata": {},
   "outputs": [
    {
     "data": {
      "text/plain": [
       "tensor([47, 52, 58,  ...,  1, 51, 63], device='cuda:0')"
      ]
     },
     "execution_count": 16,
     "metadata": {},
     "output_type": "execute_result"
    }
   ],
   "source": [
    "X[0]"
   ]
  },
  {
   "cell_type": "code",
   "execution_count": 17,
   "id": "d2b642ae-6962-48d3-a94b-10d7a121a608",
   "metadata": {},
   "outputs": [
    {
     "data": {
      "text/plain": [
       "tensor([52, 58, 57,  ..., 51, 63,  1], device='cuda:0')"
      ]
     },
     "execution_count": 17,
     "metadata": {},
     "output_type": "execute_result"
    }
   ],
   "source": [
    "Y[0]"
   ]
  },
  {
   "cell_type": "markdown",
   "id": "8223cd1a-4fce-4ab5-aeee-80dd17885377",
   "metadata": {},
   "source": [
    "## Prepare Tracking data"
   ]
  },
  {
   "cell_type": "code",
   "execution_count": 24,
   "id": "11479ee4-4236-4c05-9e49-84aa68743064",
   "metadata": {},
   "outputs": [],
   "source": [
    "EVENT_START_TOKEN = 1\n",
    "EVENT_END_TOKEN = 2\n",
    "TRACK_START_TOKEN = 3\n",
    "TRACK_END_TOKEN = 4\n",
    "TRACK_HOLE_TOKEN = 5\n",
    "UNKNOWN_TOKEN = 6\n",
    "MASK_TOKEN = 7\n",
    "PAD_TOKEN = 8\n",
    "\n",
    "block_size = 18 + 2  # maximum number of hits for one track + START + END"
   ]
  },
  {
   "cell_type": "code",
   "execution_count": 25,
   "id": "18133e09-0414-404f-9faf-283e7e7f3584",
   "metadata": {},
   "outputs": [],
   "source": [
    "import os \n",
    "import numpy as np\n",
    "import pandas as pd\n",
    "\n",
    "## Reproduce umid_dict the same way as in process_data\n",
    "input_dir = \"/home/xju/ocean/data/TrackML/codalab_data\"\n",
    "detector_path = 'detector.csv'"
   ]
  },
  {
   "cell_type": "code",
   "execution_count": 124,
   "id": "7e505f07-5588-4f21-afe5-99f3ecebd110",
   "metadata": {},
   "outputs": [],
   "source": [
    "\n",
    "detector = pd.read_csv(Path(input_dir) / detector_path)\n",
    "\n",
    "detector_umid = np.stack([detector.volume_id, detector.layer_id, detector.module_id], axis=1)\n",
    "umid_dict = {}\n",
    "index = 7\n",
    "for i in detector_umid:\n",
    "    umid_dict[tuple(i)] = index\n",
    "    index += 1\n",
    "\n",
    "## Inverting the umid_dict\n",
    "umid_dict_inv = {v: k for k, v in umid_dict.items()}"
   ]
  },
  {
   "cell_type": "code",
   "execution_count": null,
   "id": "0aeac81f-256c-452e-8535-92668de72d69",
   "metadata": {},
   "outputs": [],
   "source": []
  },
  {
   "cell_type": "code",
   "execution_count": null,
   "id": "1080a817-16a4-4d3d-a7b7-6230474c8a5c",
   "metadata": {},
   "outputs": [],
   "source": []
  },
  {
   "cell_type": "code",
   "execution_count": 12,
   "id": "75a4463d-9d7f-4a73-b357-7243998a117c",
   "metadata": {},
   "outputs": [],
   "source": [
    "pixel_moudels = [k for k in umid_dict.keys() if k[0] in [7, 8, 9]]"
   ]
  },
  {
   "cell_type": "code",
   "execution_count": 70,
   "id": "879b1778-c967-4ff9-989f-33461d3d8689",
   "metadata": {},
   "outputs": [
    {
     "name": "stdout",
     "output_type": "stream",
     "text": [
      "# of pixel moduels:  4004\n",
      "# of all modules:  18728\n"
     ]
    }
   ],
   "source": [
    "vocab_size = len(pixel_moudels)\n",
    "print(\"# of pixel moduels: \", vocab_size)\n",
    "print(\"# of all modules: \", len(umid_dict))"
   ]
  },
  {
   "cell_type": "code",
   "execution_count": 20,
   "id": "12511b3c-5328-4ded-b047-c78f67b8f7a2",
   "metadata": {},
   "outputs": [
    {
     "name": "stdout",
     "output_type": "stream",
     "text": [
      "uproot is not installed. AthenaRawRootReader will not be available.\n"
     ]
    }
   ],
   "source": [
    "from acctrack.io import TrackMLReader"
   ]
  },
  {
   "cell_type": "code",
   "execution_count": 26,
   "id": "60bb58dd-2249-415b-83f7-3ad9971a76d0",
   "metadata": {},
   "outputs": [
    {
     "name": "stdout",
     "output_type": "stream",
     "text": [
      "total 1850 events in directory: /home/xju/ocean/data/TrackML/codalab_data/train_all\n",
      "Loading detector...\n",
      "Detector loaded.\n"
     ]
    }
   ],
   "source": [
    "reader = TrackMLReader(Path(input_dir) / \"train_all\")"
   ]
  },
  {
   "cell_type": "code",
   "execution_count": 127,
   "id": "2bc615d4-1ef2-4759-9117-000496f5d78f",
   "metadata": {},
   "outputs": [
    {
     "name": "stdout",
     "output_type": "stream",
     "text": [
      "read event 21100\n",
      "Index(['hit_id', 'x', 'y', 'z', 'volume_id', 'layer_id', 'module_id', 'r',\n",
      "       'phi', 'particle_id', 'vx', 'vy', 'vz', 'pt', 'weight', 'nhits',\n",
      "       'is_pixel', 'umid', 'geometry_id'],\n",
      "      dtype='object')\n",
      "CPU times: user 11.6 s, sys: 783 ms, total: 12.4 s\n",
      "Wall time: 12.7 s\n"
     ]
    },
    {
     "data": {
      "text/plain": [
       "True"
      ]
     },
     "execution_count": 127,
     "metadata": {},
     "output_type": "execute_result"
    }
   ],
   "source": [
    "%%time\n",
    "reader.read(0)"
   ]
  },
  {
   "cell_type": "code",
   "execution_count": 128,
   "id": "5dae62f6-062d-4290-b1af-1e790d7a2839",
   "metadata": {},
   "outputs": [],
   "source": [
    "hits = reader.spacepoints"
   ]
  },
  {
   "cell_type": "code",
   "execution_count": 129,
   "id": "52dd68d1-9e10-483a-805f-b4370e6c3aa5",
   "metadata": {},
   "outputs": [
    {
     "data": {
      "text/html": [
       "<div>\n",
       "<style scoped>\n",
       "    .dataframe tbody tr th:only-of-type {\n",
       "        vertical-align: middle;\n",
       "    }\n",
       "\n",
       "    .dataframe tbody tr th {\n",
       "        vertical-align: top;\n",
       "    }\n",
       "\n",
       "    .dataframe thead th {\n",
       "        text-align: right;\n",
       "    }\n",
       "</style>\n",
       "<table border=\"1\" class=\"dataframe\">\n",
       "  <thead>\n",
       "    <tr style=\"text-align: right;\">\n",
       "      <th></th>\n",
       "      <th>hit_id</th>\n",
       "      <th>umid</th>\n",
       "      <th>particle_id</th>\n",
       "      <th>pt</th>\n",
       "      <th>nhits</th>\n",
       "    </tr>\n",
       "  </thead>\n",
       "  <tbody>\n",
       "    <tr>\n",
       "      <th>0</th>\n",
       "      <td>30821</td>\n",
       "      <td>1719</td>\n",
       "      <td>517921928623697922</td>\n",
       "      <td>0.127634</td>\n",
       "      <td>1</td>\n",
       "    </tr>\n",
       "    <tr>\n",
       "      <th>1</th>\n",
       "      <td>30811</td>\n",
       "      <td>1719</td>\n",
       "      <td>517921928623702018</td>\n",
       "      <td>0.124454</td>\n",
       "      <td>1</td>\n",
       "    </tr>\n",
       "    <tr>\n",
       "      <th>2</th>\n",
       "      <td>20777</td>\n",
       "      <td>897</td>\n",
       "      <td>252206870549237761</td>\n",
       "      <td>0.141079</td>\n",
       "      <td>1</td>\n",
       "    </tr>\n",
       "    <tr>\n",
       "      <th>3</th>\n",
       "      <td>15780</td>\n",
       "      <td>828</td>\n",
       "      <td>265713683701698561</td>\n",
       "      <td>0.324658</td>\n",
       "      <td>12</td>\n",
       "    </tr>\n",
       "    <tr>\n",
       "      <th>4</th>\n",
       "      <td>27362</td>\n",
       "      <td>1276</td>\n",
       "      <td>292737549208657922</td>\n",
       "      <td>0.205311</td>\n",
       "      <td>12</td>\n",
       "    </tr>\n",
       "    <tr>\n",
       "      <th>...</th>\n",
       "      <td>...</td>\n",
       "      <td>...</td>\n",
       "      <td>...</td>\n",
       "      <td>...</td>\n",
       "      <td>...</td>\n",
       "    </tr>\n",
       "    <tr>\n",
       "      <th>104862</th>\n",
       "      <td>90689</td>\n",
       "      <td>11859</td>\n",
       "      <td>306245049539100672</td>\n",
       "      <td>0.499549</td>\n",
       "      <td>11</td>\n",
       "    </tr>\n",
       "    <tr>\n",
       "      <th>104863</th>\n",
       "      <td>90876</td>\n",
       "      <td>11910</td>\n",
       "      <td>58548994179072000</td>\n",
       "      <td>0.879969</td>\n",
       "      <td>14</td>\n",
       "    </tr>\n",
       "    <tr>\n",
       "      <th>104864</th>\n",
       "      <td>104823</td>\n",
       "      <td>18724</td>\n",
       "      <td>292742565713674240</td>\n",
       "      <td>0.658053</td>\n",
       "      <td>15</td>\n",
       "    </tr>\n",
       "    <tr>\n",
       "      <th>104865</th>\n",
       "      <td>104769</td>\n",
       "      <td>18712</td>\n",
       "      <td>292735831204954112</td>\n",
       "      <td>2.888478</td>\n",
       "      <td>15</td>\n",
       "    </tr>\n",
       "    <tr>\n",
       "      <th>104866</th>\n",
       "      <td>55828</td>\n",
       "      <td>4254</td>\n",
       "      <td>157628254717480961</td>\n",
       "      <td>0.240630</td>\n",
       "      <td>11</td>\n",
       "    </tr>\n",
       "  </tbody>\n",
       "</table>\n",
       "<p>104867 rows × 5 columns</p>\n",
       "</div>"
      ],
      "text/plain": [
       "        hit_id   umid         particle_id        pt  nhits\n",
       "0        30821   1719  517921928623697922  0.127634      1\n",
       "1        30811   1719  517921928623702018  0.124454      1\n",
       "2        20777    897  252206870549237761  0.141079      1\n",
       "3        15780    828  265713683701698561  0.324658     12\n",
       "4        27362   1276  292737549208657922  0.205311     12\n",
       "...        ...    ...                 ...       ...    ...\n",
       "104862   90689  11859  306245049539100672  0.499549     11\n",
       "104863   90876  11910   58548994179072000  0.879969     14\n",
       "104864  104823  18724  292742565713674240  0.658053     15\n",
       "104865  104769  18712  292735831204954112  2.888478     15\n",
       "104866   55828   4254  157628254717480961  0.240630     11\n",
       "\n",
       "[104867 rows x 5 columns]"
      ]
     },
     "execution_count": 129,
     "metadata": {},
     "output_type": "execute_result"
    }
   ],
   "source": [
    "hits[[\"hit_id\", \"umid\", \"particle_id\", \"pt\", \"nhits\"]]"
   ]
  },
  {
   "cell_type": "markdown",
   "id": "1c70ed31-ff7e-4d98-9503-af141274091e",
   "metadata": {},
   "source": [
    "Prepare the dataset for training the GPT model. First we select particles that leave at least 4 hits.\n",
    "\n",
    "It will be interesting to study the impact of padding in the performance. Let's start without padding. That means within the same *block*, there might be more than one tracks, where *block* means a sequence of hits. "
   ]
  },
  {
   "cell_type": "markdown",
   "id": "090df091-7b4a-4517-ae9d-8a2040c8ac09",
   "metadata": {},
   "source": []
  },
  {
   "cell_type": "code",
   "execution_count": 148,
   "id": "d4ee71c9-347b-4739-b972-242a006559c5",
   "metadata": {},
   "outputs": [],
   "source": [
    "def get_tracking_data(reader, num_val_evts: int = 5, \n",
    "                      min_truth_hits: int = 4, with_padding: bool = False):\n",
    "    assert reader.nevts > 5, \"not enough events for training and validation\"\n",
    "    all_tracks = []\n",
    "    for idx in range(reader.nevts - 5):\n",
    "        reader.read(idx)\n",
    "        hits = reader.spacepoints[[\"umid\", \"particle_id\", \"nhits\"]]\n",
    "        hits = hits[hits.nhits >= min_truth_hits]\n",
    "        \n",
    "        vlid_groups = hits.groupby(\"particle_id\")\n",
    "        tracks = [[START_TOKEN] + vlid_groups.get_group(vlid).umid.to_list() + [END_TOKEN] \n",
    "                  for vlid in vlid_groups.groups.keys()]\n",
    "        if with_padding:\n",
    "            all_tracks += [ track + [PAD_TOKEN] * (block_size - len(track)) for track in tracks]\n",
    "        else:\n",
    "            all_tracks += tracks\n",
    "\n",
    "    all_tracks = np.array(all_tracks, dytpe=np.uint16)\n",
    "    return all_tracks"
   ]
  },
  {
   "cell_type": "code",
   "execution_count": 130,
   "id": "5928bd48-be09-4ae5-9052-09ffb2218ba5",
   "metadata": {},
   "outputs": [],
   "source": [
    "hits = hits[hits.nhits >= 4]"
   ]
  },
  {
   "cell_type": "code",
   "execution_count": 132,
   "id": "6440a550-1fd9-4ebb-afc4-0e75082f0c5e",
   "metadata": {},
   "outputs": [],
   "source": [
    "vlid_groups = hits.groupby(\"particle_id\")"
   ]
  },
  {
   "cell_type": "code",
   "execution_count": 144,
   "id": "092b008e-8d2d-4304-a1f3-50ebe64378a5",
   "metadata": {},
   "outputs": [],
   "source": [
    "tracks = [[START_TOKEN] + vlid_groups.get_group(vlid).umid.to_list() + [END_TOKEN] for vlid in vlid_groups.groups.keys()]"
   ]
  },
  {
   "cell_type": "code",
   "execution_count": 145,
   "id": "2548530c-c48a-487d-b3bd-d51ff0f6bc8e",
   "metadata": {},
   "outputs": [],
   "source": [
    "tracks = [ track + [PAD_TOKEN] * (block_size - len(track)) for track in tracks]"
   ]
  },
  {
   "cell_type": "code",
   "execution_count": 146,
   "id": "2b4f4816-746f-4894-9444-01f3402497cc",
   "metadata": {},
   "outputs": [],
   "source": [
    "tracks = np.array(tracks)"
   ]
  },
  {
   "cell_type": "code",
   "execution_count": 147,
   "id": "ee14655c-23dd-4d59-bab8-dc0e93b3460b",
   "metadata": {},
   "outputs": [
    {
     "data": {
      "text/plain": [
       "(7812, 20)"
      ]
     },
     "execution_count": 147,
     "metadata": {},
     "output_type": "execute_result"
    }
   ],
   "source": [
    "tracks.shape"
   ]
  },
  {
   "cell_type": "code",
   "execution_count": 101,
   "id": "6874e00c-f35e-4914-b02b-0403efbc9df9",
   "metadata": {},
   "outputs": [],
   "source": [
    "evtid = 21100\n",
    "inputdir = \"/home/xju/ocean/data/TrackML/codalab_data/train_all\"\n",
    "prefix = os.path.join(inputdir, \"event{:09d}\".format(evtid))\n",
    "truth_fname = \"{}-truth.csv.gz\".format(prefix)\n",
    "truth = pd.read_csv(truth_fname)"
   ]
  },
  {
   "cell_type": "code",
   "execution_count": 105,
   "id": "bb162bb9-b659-4206-a542-c3f013de1de8",
   "metadata": {},
   "outputs": [
    {
     "data": {
      "text/plain": [
       "Series([], Name: vx, dtype: float64)"
      ]
     },
     "execution_count": 105,
     "metadata": {},
     "output_type": "execute_result"
    }
   ],
   "source": [
    "reader.particles.vx[np.isnan(reader.particles.vx)]"
   ]
  },
  {
   "cell_type": "code",
   "execution_count": 106,
   "id": "c9e79c93-d81c-49bb-babf-f78f1c5692bf",
   "metadata": {},
   "outputs": [
    {
     "data": {
      "text/html": [
       "<div>\n",
       "<style scoped>\n",
       "    .dataframe tbody tr th:only-of-type {\n",
       "        vertical-align: middle;\n",
       "    }\n",
       "\n",
       "    .dataframe tbody tr th {\n",
       "        vertical-align: top;\n",
       "    }\n",
       "\n",
       "    .dataframe thead th {\n",
       "        text-align: right;\n",
       "    }\n",
       "</style>\n",
       "<table border=\"1\" class=\"dataframe\">\n",
       "  <thead>\n",
       "    <tr style=\"text-align: right;\">\n",
       "      <th></th>\n",
       "      <th>hit_id</th>\n",
       "      <th>particle_id</th>\n",
       "      <th>tx</th>\n",
       "      <th>ty</th>\n",
       "      <th>tz</th>\n",
       "      <th>tpx</th>\n",
       "      <th>tpy</th>\n",
       "      <th>tpz</th>\n",
       "      <th>weight</th>\n",
       "    </tr>\n",
       "  </thead>\n",
       "  <tbody>\n",
       "    <tr>\n",
       "      <th>104766</th>\n",
       "      <td>104767</td>\n",
       "      <td>824162854994186241</td>\n",
       "      <td>-132.336</td>\n",
       "      <td>926.486</td>\n",
       "      <td>2955.5</td>\n",
       "      <td>0.004405</td>\n",
       "      <td>0.193506</td>\n",
       "      <td>0.069612</td>\n",
       "      <td>0.0</td>\n",
       "    </tr>\n",
       "    <tr>\n",
       "      <th>104771</th>\n",
       "      <td>104772</td>\n",
       "      <td>824162854994186241</td>\n",
       "      <td>-133.180</td>\n",
       "      <td>896.044</td>\n",
       "      <td>2944.5</td>\n",
       "      <td>0.005673</td>\n",
       "      <td>0.194931</td>\n",
       "      <td>0.070554</td>\n",
       "      <td>0.0</td>\n",
       "    </tr>\n",
       "  </tbody>\n",
       "</table>\n",
       "</div>"
      ],
      "text/plain": [
       "        hit_id         particle_id       tx       ty      tz       tpx  \\\n",
       "104766  104767  824162854994186241 -132.336  926.486  2955.5  0.004405   \n",
       "104771  104772  824162854994186241 -133.180  896.044  2944.5  0.005673   \n",
       "\n",
       "             tpy       tpz  weight  \n",
       "104766  0.193506  0.069612     0.0  \n",
       "104771  0.194931  0.070554     0.0  "
      ]
     },
     "execution_count": 106,
     "metadata": {},
     "output_type": "execute_result"
    }
   ],
   "source": [
    "truth[truth.particle_id == 824162854994186241]"
   ]
  },
  {
   "cell_type": "code",
   "execution_count": 107,
   "id": "f1322b4e-9902-4b0d-9e93-761da5ab2fd7",
   "metadata": {},
   "outputs": [],
   "source": [
    "particle_fname = \"{}-particles.csv.gz\".format(prefix)\n",
    "particles = pd.read_csv(particle_fname)"
   ]
  },
  {
   "cell_type": "code",
   "execution_count": 108,
   "id": "0ac3a360-fa2c-40e8-afe1-a1735f5709eb",
   "metadata": {},
   "outputs": [
    {
     "data": {
      "text/html": [
       "<div>\n",
       "<style scoped>\n",
       "    .dataframe tbody tr th:only-of-type {\n",
       "        vertical-align: middle;\n",
       "    }\n",
       "\n",
       "    .dataframe tbody tr th {\n",
       "        vertical-align: top;\n",
       "    }\n",
       "\n",
       "    .dataframe thead th {\n",
       "        text-align: right;\n",
       "    }\n",
       "</style>\n",
       "<table border=\"1\" class=\"dataframe\">\n",
       "  <thead>\n",
       "    <tr style=\"text-align: right;\">\n",
       "      <th></th>\n",
       "      <th>particle_id</th>\n",
       "      <th>particle_type</th>\n",
       "      <th>vx</th>\n",
       "      <th>vy</th>\n",
       "      <th>vz</th>\n",
       "      <th>px</th>\n",
       "      <th>py</th>\n",
       "      <th>pz</th>\n",
       "      <th>q</th>\n",
       "      <th>nhits</th>\n",
       "    </tr>\n",
       "  </thead>\n",
       "  <tbody>\n",
       "    <tr>\n",
       "      <th>10297</th>\n",
       "      <td>824162854994186241</td>\n",
       "      <td>2212</td>\n",
       "      <td>52.3031</td>\n",
       "      <td>193.04</td>\n",
       "      <td>2653.99</td>\n",
       "      <td>-0.114878</td>\n",
       "      <td>0.148643</td>\n",
       "      <td>0.088223</td>\n",
       "      <td>1</td>\n",
       "      <td>2</td>\n",
       "    </tr>\n",
       "  </tbody>\n",
       "</table>\n",
       "</div>"
      ],
      "text/plain": [
       "              particle_id  particle_type       vx      vy       vz        px  \\\n",
       "10297  824162854994186241           2212  52.3031  193.04  2653.99 -0.114878   \n",
       "\n",
       "             py        pz  q  nhits  \n",
       "10297  0.148643  0.088223  1      2  "
      ]
     },
     "execution_count": 108,
     "metadata": {},
     "output_type": "execute_result"
    }
   ],
   "source": [
    "particles[particles.particle_id == 824162854994186241]"
   ]
  },
  {
   "cell_type": "code",
   "execution_count": 113,
   "id": "a7f870f8-4553-46ca-9357-2672aa6d7709",
   "metadata": {},
   "outputs": [],
   "source": [
    "aa = truth.merge(particles, on=\"particle_id\", how=\"left\")"
   ]
  },
  {
   "cell_type": "code",
   "execution_count": 114,
   "id": "d6277b95-5d13-454b-a3ea-bae4006bf817",
   "metadata": {},
   "outputs": [
    {
     "data": {
      "text/html": [
       "<div>\n",
       "<style scoped>\n",
       "    .dataframe tbody tr th:only-of-type {\n",
       "        vertical-align: middle;\n",
       "    }\n",
       "\n",
       "    .dataframe tbody tr th {\n",
       "        vertical-align: top;\n",
       "    }\n",
       "\n",
       "    .dataframe thead th {\n",
       "        text-align: right;\n",
       "    }\n",
       "</style>\n",
       "<table border=\"1\" class=\"dataframe\">\n",
       "  <thead>\n",
       "    <tr style=\"text-align: right;\">\n",
       "      <th></th>\n",
       "      <th>hit_id</th>\n",
       "      <th>particle_id</th>\n",
       "      <th>tx</th>\n",
       "      <th>ty</th>\n",
       "      <th>tz</th>\n",
       "      <th>tpx</th>\n",
       "      <th>tpy</th>\n",
       "      <th>tpz</th>\n",
       "      <th>weight</th>\n",
       "      <th>particle_type</th>\n",
       "      <th>vx</th>\n",
       "      <th>vy</th>\n",
       "      <th>vz</th>\n",
       "      <th>px</th>\n",
       "      <th>py</th>\n",
       "      <th>pz</th>\n",
       "      <th>q</th>\n",
       "      <th>nhits</th>\n",
       "    </tr>\n",
       "  </thead>\n",
       "  <tbody>\n",
       "    <tr>\n",
       "      <th>104766</th>\n",
       "      <td>104767</td>\n",
       "      <td>824162854994186241</td>\n",
       "      <td>-132.336</td>\n",
       "      <td>926.486</td>\n",
       "      <td>2955.5</td>\n",
       "      <td>0.004405</td>\n",
       "      <td>0.193506</td>\n",
       "      <td>0.069612</td>\n",
       "      <td>0.0</td>\n",
       "      <td>2212</td>\n",
       "      <td>52.3031</td>\n",
       "      <td>193.04</td>\n",
       "      <td>2653.99</td>\n",
       "      <td>-0.114878</td>\n",
       "      <td>0.148643</td>\n",
       "      <td>0.088223</td>\n",
       "      <td>1</td>\n",
       "      <td>2</td>\n",
       "    </tr>\n",
       "    <tr>\n",
       "      <th>104771</th>\n",
       "      <td>104772</td>\n",
       "      <td>824162854994186241</td>\n",
       "      <td>-133.180</td>\n",
       "      <td>896.044</td>\n",
       "      <td>2944.5</td>\n",
       "      <td>0.005673</td>\n",
       "      <td>0.194931</td>\n",
       "      <td>0.070554</td>\n",
       "      <td>0.0</td>\n",
       "      <td>2212</td>\n",
       "      <td>52.3031</td>\n",
       "      <td>193.04</td>\n",
       "      <td>2653.99</td>\n",
       "      <td>-0.114878</td>\n",
       "      <td>0.148643</td>\n",
       "      <td>0.088223</td>\n",
       "      <td>1</td>\n",
       "      <td>2</td>\n",
       "    </tr>\n",
       "  </tbody>\n",
       "</table>\n",
       "</div>"
      ],
      "text/plain": [
       "        hit_id         particle_id       tx       ty      tz       tpx  \\\n",
       "104766  104767  824162854994186241 -132.336  926.486  2955.5  0.004405   \n",
       "104771  104772  824162854994186241 -133.180  896.044  2944.5  0.005673   \n",
       "\n",
       "             tpy       tpz  weight  particle_type       vx      vy       vz  \\\n",
       "104766  0.193506  0.069612     0.0           2212  52.3031  193.04  2653.99   \n",
       "104771  0.194931  0.070554     0.0           2212  52.3031  193.04  2653.99   \n",
       "\n",
       "              px        py        pz  q  nhits  \n",
       "104766 -0.114878  0.148643  0.088223  1      2  \n",
       "104771 -0.114878  0.148643  0.088223  1      2  "
      ]
     },
     "execution_count": 114,
     "metadata": {},
     "output_type": "execute_result"
    }
   ],
   "source": [
    "aa[aa.particle_id == 824162854994186241]"
   ]
  },
  {
   "cell_type": "code",
   "execution_count": 112,
   "id": "9aedea28-c9f1-4a58-a0bb-a9debb7aee0c",
   "metadata": {},
   "outputs": [],
   "source": [
    "particles.loc[len(particles.index)] = 0"
   ]
  },
  {
   "cell_type": "markdown",
   "id": "2bcd6ff7-c1a1-4e47-a24c-5d9a9f977124",
   "metadata": {},
   "source": [
    "## Performance"
   ]
  },
  {
   "cell_type": "code",
   "execution_count": 50,
   "id": "f2bac598-7f1c-45e9-aa58-caa4823784e3",
   "metadata": {},
   "outputs": [
    {
     "data": {
      "image/png": "[encoded data removed]",
      "text/plain": [
       "<Figure size 640x480 with 1 Axes>"
      ]
     },
     "metadata": {},
     "output_type": "display_data"
    }
   ],
   "source": [
    "data_size = [1, 10, 100, 1000]\n",
    "val_loss = [3.9347, 2.3281, 1.7158, 1.1]\n",
    "\n",
    "fontsize = 16\n",
    "plt.plot(data_size, val_loss, \"k-o\",)\n",
    "plt.xlabel(\"data size\", fontsize=fontsize)\n",
    "plt.ylabel(\"validation loss\", fontsize=fontsize)\n",
    "plt.xscale(\"log\")"
   ]
  },
  {
   "cell_type": "markdown",
   "id": "b3ec6256-da25-43b5-9fc4-a7e1e789ea1c",
   "metadata": {},
   "source": [
    "## Torch Text"
   ]
  },
  {
   "cell_type": "code",
   "execution_count": 52,
   "id": "a8982c84-f202-4edf-83c8-43c36186cd71",
   "metadata": {},
   "outputs": [],
   "source": [
    "# import datasets\n",
    "from torchtext.datasets import IMDB\n",
    "\n",
    "train_iter = IMDB(split='train')\n",
    "\n",
    "def tokenize(label, line):\n",
    "    return line.split()\n",
    "\n",
    "tokens = []\n",
    "for label, line in train_iter:\n",
    "    tokens += tokenize(label, line)\n",
    "    break"
   ]
  },
  {
   "cell_type": "code",
   "execution_count": 54,
   "id": "c1720be3-23f1-4d4d-aa01-6023e787f42c",
   "metadata": {},
   "outputs": [
    {
     "data": {
      "text/plain": [
       "(1,\n",
       " 'I rented I AM CURIOUS-YELLOW from my video store because of all the controversy that surrounded it when it was first released in 1967. I also heard that at first it was seized by U.S. customs if it ever tried to enter this country, therefore being a fan of films considered \"controversial\" I really had to see this for myself.<br /><br />The plot is centered around a young Swedish drama student named Lena who wants to learn everything she can about life. In particular she wants to focus her attentions to making some sort of documentary on what the average Swede thought about certain political issues such as the Vietnam War and race issues in the United States. In between asking politicians and ordinary denizens of Stockholm about their opinions on politics, she has sex with her drama teacher, classmates, and married men.<br /><br />What kills me about I AM CURIOUS-YELLOW is that 40 years ago, this was considered pornographic. Really, the sex and nudity scenes are few and far between, even then it\\'s not shot like some cheaply made porno. While my countrymen mind find it shocking, in reality sex and nudity are a major staple in Swedish cinema. Even Ingmar Bergman, arguably their answer to good old boy John Ford, had sex scenes in his films.<br /><br />I do commend the filmmakers for the fact that any sex shown in the film is shown for artistic purposes rather than just to shock people and make money to be shown in pornographic theaters in America. I AM CURIOUS-YELLOW is a good film for anyone wanting to study the meat and potatoes (no pun intended) of Swedish cinema. But really, this film doesn\\'t have much of a plot.')"
      ]
     },
     "execution_count": 54,
     "metadata": {},
     "output_type": "execute_result"
    }
   ],
   "source": [
    "label, line"
   ]
  },
  {
   "cell_type": "code",
   "execution_count": 55,
   "id": "90f599d4-ee9a-4f7c-add8-2a0724440ea8",
   "metadata": {},
   "outputs": [
    {
     "data": {
      "text/plain": [
       "['I',\n",
       " 'rented',\n",
       " 'I',\n",
       " 'AM',\n",
       " 'CURIOUS-YELLOW',\n",
       " 'from',\n",
       " 'my',\n",
       " 'video',\n",
       " 'store',\n",
       " 'because',\n",
       " 'of',\n",
       " 'all',\n",
       " 'the',\n",
       " 'controversy',\n",
       " 'that',\n",
       " 'surrounded',\n",
       " 'it',\n",
       " 'when',\n",
       " 'it',\n",
       " 'was',\n",
       " 'first',\n",
       " 'released',\n",
       " 'in',\n",
       " '1967.',\n",
       " 'I',\n",
       " 'also',\n",
       " 'heard',\n",
       " 'that',\n",
       " 'at',\n",
       " 'first',\n",
       " 'it',\n",
       " 'was',\n",
       " 'seized',\n",
       " 'by',\n",
       " 'U.S.',\n",
       " 'customs',\n",
       " 'if',\n",
       " 'it',\n",
       " 'ever',\n",
       " 'tried',\n",
       " 'to',\n",
       " 'enter',\n",
       " 'this',\n",
       " 'country,',\n",
       " 'therefore',\n",
       " 'being',\n",
       " 'a',\n",
       " 'fan',\n",
       " 'of',\n",
       " 'films',\n",
       " 'considered',\n",
       " '\"controversial\"',\n",
       " 'I',\n",
       " 'really',\n",
       " 'had',\n",
       " 'to',\n",
       " 'see',\n",
       " 'this',\n",
       " 'for',\n",
       " 'myself.<br',\n",
       " '/><br',\n",
       " '/>The',\n",
       " 'plot',\n",
       " 'is',\n",
       " 'centered',\n",
       " 'around',\n",
       " 'a',\n",
       " 'young',\n",
       " 'Swedish',\n",
       " 'drama',\n",
       " 'student',\n",
       " 'named',\n",
       " 'Lena',\n",
       " 'who',\n",
       " 'wants',\n",
       " 'to',\n",
       " 'learn',\n",
       " 'everything',\n",
       " 'she',\n",
       " 'can',\n",
       " 'about',\n",
       " 'life.',\n",
       " 'In',\n",
       " 'particular',\n",
       " 'she',\n",
       " 'wants',\n",
       " 'to',\n",
       " 'focus',\n",
       " 'her',\n",
       " 'attentions',\n",
       " 'to',\n",
       " 'making',\n",
       " 'some',\n",
       " 'sort',\n",
       " 'of',\n",
       " 'documentary',\n",
       " 'on',\n",
       " 'what',\n",
       " 'the',\n",
       " 'average',\n",
       " 'Swede',\n",
       " 'thought',\n",
       " 'about',\n",
       " 'certain',\n",
       " 'political',\n",
       " 'issues',\n",
       " 'such',\n",
       " 'as',\n",
       " 'the',\n",
       " 'Vietnam',\n",
       " 'War',\n",
       " 'and',\n",
       " 'race',\n",
       " 'issues',\n",
       " 'in',\n",
       " 'the',\n",
       " 'United',\n",
       " 'States.',\n",
       " 'In',\n",
       " 'between',\n",
       " 'asking',\n",
       " 'politicians',\n",
       " 'and',\n",
       " 'ordinary',\n",
       " 'denizens',\n",
       " 'of',\n",
       " 'Stockholm',\n",
       " 'about',\n",
       " 'their',\n",
       " 'opinions',\n",
       " 'on',\n",
       " 'politics,',\n",
       " 'she',\n",
       " 'has',\n",
       " 'sex',\n",
       " 'with',\n",
       " 'her',\n",
       " 'drama',\n",
       " 'teacher,',\n",
       " 'classmates,',\n",
       " 'and',\n",
       " 'married',\n",
       " 'men.<br',\n",
       " '/><br',\n",
       " '/>What',\n",
       " 'kills',\n",
       " 'me',\n",
       " 'about',\n",
       " 'I',\n",
       " 'AM',\n",
       " 'CURIOUS-YELLOW',\n",
       " 'is',\n",
       " 'that',\n",
       " '40',\n",
       " 'years',\n",
       " 'ago,',\n",
       " 'this',\n",
       " 'was',\n",
       " 'considered',\n",
       " 'pornographic.',\n",
       " 'Really,',\n",
       " 'the',\n",
       " 'sex',\n",
       " 'and',\n",
       " 'nudity',\n",
       " 'scenes',\n",
       " 'are',\n",
       " 'few',\n",
       " 'and',\n",
       " 'far',\n",
       " 'between,',\n",
       " 'even',\n",
       " 'then',\n",
       " \"it's\",\n",
       " 'not',\n",
       " 'shot',\n",
       " 'like',\n",
       " 'some',\n",
       " 'cheaply',\n",
       " 'made',\n",
       " 'porno.',\n",
       " 'While',\n",
       " 'my',\n",
       " 'countrymen',\n",
       " 'mind',\n",
       " 'find',\n",
       " 'it',\n",
       " 'shocking,',\n",
       " 'in',\n",
       " 'reality',\n",
       " 'sex',\n",
       " 'and',\n",
       " 'nudity',\n",
       " 'are',\n",
       " 'a',\n",
       " 'major',\n",
       " 'staple',\n",
       " 'in',\n",
       " 'Swedish',\n",
       " 'cinema.',\n",
       " 'Even',\n",
       " 'Ingmar',\n",
       " 'Bergman,',\n",
       " 'arguably',\n",
       " 'their',\n",
       " 'answer',\n",
       " 'to',\n",
       " 'good',\n",
       " 'old',\n",
       " 'boy',\n",
       " 'John',\n",
       " 'Ford,',\n",
       " 'had',\n",
       " 'sex',\n",
       " 'scenes',\n",
       " 'in',\n",
       " 'his',\n",
       " 'films.<br',\n",
       " '/><br',\n",
       " '/>I',\n",
       " 'do',\n",
       " 'commend',\n",
       " 'the',\n",
       " 'filmmakers',\n",
       " 'for',\n",
       " 'the',\n",
       " 'fact',\n",
       " 'that',\n",
       " 'any',\n",
       " 'sex',\n",
       " 'shown',\n",
       " 'in',\n",
       " 'the',\n",
       " 'film',\n",
       " 'is',\n",
       " 'shown',\n",
       " 'for',\n",
       " 'artistic',\n",
       " 'purposes',\n",
       " 'rather',\n",
       " 'than',\n",
       " 'just',\n",
       " 'to',\n",
       " 'shock',\n",
       " 'people',\n",
       " 'and',\n",
       " 'make',\n",
       " 'money',\n",
       " 'to',\n",
       " 'be',\n",
       " 'shown',\n",
       " 'in',\n",
       " 'pornographic',\n",
       " 'theaters',\n",
       " 'in',\n",
       " 'America.',\n",
       " 'I',\n",
       " 'AM',\n",
       " 'CURIOUS-YELLOW',\n",
       " 'is',\n",
       " 'a',\n",
       " 'good',\n",
       " 'film',\n",
       " 'for',\n",
       " 'anyone',\n",
       " 'wanting',\n",
       " 'to',\n",
       " 'study',\n",
       " 'the',\n",
       " 'meat',\n",
       " 'and',\n",
       " 'potatoes',\n",
       " '(no',\n",
       " 'pun',\n",
       " 'intended)',\n",
       " 'of',\n",
       " 'Swedish',\n",
       " 'cinema.',\n",
       " 'But',\n",
       " 'really,',\n",
       " 'this',\n",
       " 'film',\n",
       " \"doesn't\",\n",
       " 'have',\n",
       " 'much',\n",
       " 'of',\n",
       " 'a',\n",
       " 'plot.']"
      ]
     },
     "execution_count": 55,
     "metadata": {},
     "output_type": "execute_result"
    }
   ],
   "source": [
    "tokens"
   ]
  },
  {
   "cell_type": "code",
   "execution_count": null,
   "id": "37f02a22-5b4e-45ff-a4ba-b3c872d4641c",
   "metadata": {},
   "outputs": [],
   "source": []
  }
 ],
 "metadata": {
  "kernelspec": {
   "display_name": "Python 3 (ipykernel)",
   "language": "python",
   "name": "python3"
  },
  "language_info": {
   "codemirror_mode": {
    "name": "ipython",
    "version": 3
   },
   "file_extension": ".py",
   "mimetype": "text/x-python",
   "name": "python",
   "nbconvert_exporter": "python",
   "pygments_lexer": "ipython3",
   "version": "3.9.18"
  }
 },
 "nbformat": 4,
 "nbformat_minor": 5
}
